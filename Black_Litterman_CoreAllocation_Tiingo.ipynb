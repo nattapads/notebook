{
  "cells": [
    {
      "cell_type": "markdown",
      "metadata": {
        "id": "nSmLMk4p-IT3"
      },
      "source": [
        "# 📌 View"
      ]
    },
    {
      "cell_type": "code",
      "execution_count": null,
      "metadata": {
        "id": "vGztfzhACbmi"
      },
      "outputs": [],
      "source": [
        "gloView = 0.5\n",
        "\n",
        "eqView = {\n",
        "    ##\"GPIX\": {\"weight\": gloView, \"gg_sheet_col\": \"C\", \"mcap\":   717010000},\n",
        "    ##\"GPIQ\": {\"weight\": gloView, \"gg_sheet_col\": \"D\", \"mcap\":   727230000},\n",
        "    \"JEPI\": {\"weight\": gloView, \"gg_sheet_col\": \"C\", \"mcap\": 39240000000},\n",
        "    \"JEPQ\": {\"weight\": gloView, \"gg_sheet_col\": \"D\", \"mcap\": 24720000000},\n",
        "    \"IDVO\": {\"weight\": gloView, \"gg_sheet_col\": \"E\", \"mcap\":   233500000},\n",
        "    \"DVYE\": {\"weight\": gloView, \"gg_sheet_col\": \"F\", \"mcap\":   751240000},\n",
        "    \"SGOV\": {\"weight\": 1,       \"gg_sheet_col\": \"G\", \"mcap\": 46950000000}\n",
        "}\n",
        "\n",
        "dividend_symbols = eqView.keys()\n",
        "\n",
        "##apiKey = ''\n",
        "apiKey = ''"
      ]
    },
    {
      "cell_type": "markdown",
      "metadata": {
        "id": "JU7N7APzYIfk"
      },
      "source": [
        "# 📌 Set Up"
      ]
    },
    {
      "cell_type": "code",
      "source": [
        "config = {'api_key': apiKey}\n",
        "client = TiingoClient(config)"
      ],
      "metadata": {
        "id": "wvZgGBTWtFMf"
      },
      "execution_count": null,
      "outputs": []
    },
    {
      "cell_type": "code",
      "execution_count": null,
      "metadata": {
        "id": "4WmjZfXoCfK3"
      },
      "outputs": [],
      "source": [
        "upperForeCap = 20\n",
        "lowerForeCap = -20\n",
        "lowerAdjForeCap = 0.10\n",
        "moProp = 0.2\n",
        "acProp = 0.2\n",
        "boProp = 0.2\n",
        "crProp = 0.2\n",
        "skProp = 0.2\n",
        "forcastDiverMuliplier = 1.7\n",
        "expoStdLength = 32\n",
        "crScalar = 30"
      ]
    },
    {
      "cell_type": "markdown",
      "metadata": {
        "id": "5DPjteuaCsUv"
      },
      "source": [
        "# 📌 Scalar Calculation"
      ]
    },
    {
      "cell_type": "code",
      "source": [
        "!pip install tiingo"
      ],
      "metadata": {
        "colab": {
          "base_uri": "https://localhost:8080/"
        },
        "id": "GeaRlOjFMa4W",
        "outputId": "2573e03c-9994-49dc-83b9-1d4b50557511"
      },
      "execution_count": null,
      "outputs": [
        {
          "output_type": "stream",
          "name": "stdout",
          "text": [
            "Collecting tiingo\n",
            "  Downloading tiingo-0.16.1-py2.py3-none-any.whl.metadata (16 kB)\n",
            "Requirement already satisfied: requests in /usr/local/lib/python3.11/dist-packages (from tiingo) (2.32.3)\n",
            "Requirement already satisfied: websocket-client in /usr/local/lib/python3.11/dist-packages (from tiingo) (1.8.0)\n",
            "Requirement already satisfied: charset-normalizer<4,>=2 in /usr/local/lib/python3.11/dist-packages (from requests->tiingo) (3.4.1)\n",
            "Requirement already satisfied: idna<4,>=2.5 in /usr/local/lib/python3.11/dist-packages (from requests->tiingo) (3.10)\n",
            "Requirement already satisfied: urllib3<3,>=1.21.1 in /usr/local/lib/python3.11/dist-packages (from requests->tiingo) (2.4.0)\n",
            "Requirement already satisfied: certifi>=2017.4.17 in /usr/local/lib/python3.11/dist-packages (from requests->tiingo) (2025.4.26)\n",
            "Downloading tiingo-0.16.1-py2.py3-none-any.whl (16 kB)\n",
            "Installing collected packages: tiingo\n",
            "Successfully installed tiingo-0.16.1\n"
          ]
        }
      ]
    },
    {
      "cell_type": "code",
      "execution_count": null,
      "metadata": {
        "id": "vZXW-hTHCmkp"
      },
      "outputs": [],
      "source": [
        "import warnings\n",
        "import datetime\n",
        "import math\n",
        "import numpy as np\n",
        "import pandas as pd\n",
        "import pytz\n",
        "import requests\n",
        "from tiingo import TiingoClient\n",
        "from scipy.stats import skew\n",
        "from IPython.display import display\n",
        "\n",
        "warnings.simplefilter(\"ignore\", category=FutureWarning)"
      ]
    },
    {
      "cell_type": "code",
      "execution_count": null,
      "metadata": {
        "id": "BKhOu_kICjAF"
      },
      "outputs": [],
      "source": [
        "BUSINESS_DAYS_IN_YEAR = 252\n",
        "LATEST_N_DAYS = 2520\n",
        "\n",
        "instruments_for_scalars = [\n",
        "    # Global equity\n",
        "    \"VT\", \"SPY\", \"IWM\", \"EFA\", \"EEM\",\n",
        "    # Bonds / Fixed Income\n",
        "    \"AGG\", \"BNDX\", \"TIP\", \"HYG\", \"EMB\",\n",
        "    # Alternatives & commodities\n",
        "    \"GBTC\", \"DBC\", \"USO\", \"GLD\",\n",
        "    # REITs\n",
        "    \"VNQ\", \"VNQI\",\n",
        "    # Currency proxies (FX ETFs)\n",
        "    \"FXE\", \"FXY\", \"FXB\", \"FXA\", \"FXC\",\n",
        "    # Regional equity ETFs\n",
        "    \"EWU\", \"EWG\", \"FEZ\",\n",
        "    \"EWJ\", \"EWH\", \"EWA\", \"INDA\",\n",
        "    # Rates / Yield-curve ETFs\n",
        "    \"BIL\", \"IEI\", \"IEF\", \"TLT\"\n",
        "]"
      ]
    },
    {
      "cell_type": "code",
      "execution_count": null,
      "metadata": {
        "id": "w6wZ3i1iCxYz"
      },
      "outputs": [],
      "source": [
        "def add_adj_close(df):\n",
        "    if \"Close\" in df.columns:\n",
        "        df[\"Adj Close\"] = df[\"Close\"]\n",
        "    if \"Adj Close\" in df.columns:\n",
        "        return df[\"Adj Close\"].squeeze()\n",
        "    raise KeyError(\"No 'Adj Close' or 'Close' column available\")\n",
        "\n",
        "def compute_daily_price_vol(df):\n",
        "    if \"Adj Close\" not in df.columns:\n",
        "        add_adj_close(df)\n",
        "\n",
        "    adj_close = df[\"Adj Close\"].squeeze()\n",
        "    returns = adj_close.pct_change().dropna()\n",
        "    daily_exp_std_dev = returns.ewm(span=expoStdLength, adjust=False).std()\n",
        "    ten_year_window = BUSINESS_DAYS_IN_YEAR * 10\n",
        "    ten_year_vol = daily_exp_std_dev.rolling(ten_year_window,\n",
        "                                             min_periods=1).mean()\n",
        "\n",
        "    weighted_vol = 0.7 * daily_exp_std_dev + 0.3 * ten_year_vol\n",
        "    daily_percent_vol = weighted_vol.iloc[-1]\n",
        "    df[\"dailyPriceVol\"] = daily_percent_vol * adj_close\n",
        "    return df\n",
        "\n",
        "def ema(series, length):\n",
        "    return series.ewm(span=length, adjust=False).mean()\n",
        "\n",
        "def raw_momentum(close, dailyPriceVol, base_len, scalar=1):\n",
        "    ema_fast = ema(close, base_len)\n",
        "    ema_slow = ema(close, base_len * 4)\n",
        "    scaledForc = (ema_fast - ema_slow) / dailyPriceVol * scalar\n",
        "    return scaledForc, ema_fast, ema_slow\n",
        "\n",
        "def momentum_scalar(close, daily_price_vol, base_len):\n",
        "    diff_arr, shortEma, longEma = raw_momentum(close, daily_price_vol, base_len)\n",
        "    avg_diff = diff_arr.tail(LATEST_N_DAYS).abs().mean()\n",
        "    return avg_diff and 10 / avg_diff, shortEma, longEma\n",
        "\n",
        "def scal_forecast_mo(fast_ema, slow_ema, volatility, scalar):\n",
        "    risk_adjusted = (fast_ema - slow_ema) / volatility\n",
        "    return risk_adjusted * scalar\n",
        "\n",
        "def cap_forecast_ac(shift, scaled_forecast):\n",
        "    return scaled_forecast - scaled_forecast.shift(shift)\n",
        "\n",
        "def acceleration_scalar(acceleration_series):\n",
        "    avg_abs = acceleration_series.abs().tail(LATEST_N_DAYS).mean()\n",
        "    return avg_abs and 10 / avg_abs\n",
        "\n",
        "def breakout_scalar(df, break_length):\n",
        "    high_rolling = df.High.rolling(window=break_length).max()\n",
        "    low_rolling = df.Low.rolling(window=break_length).min()\n",
        "    mean_rolling = (high_rolling + low_rolling) / 2\n",
        "\n",
        "    BoForc = (40 * (df.Close - mean_rolling)) / (high_rolling - low_rolling)\n",
        "    smoothLength = max(1, int(break_length / 4))\n",
        "    smoothForcBo = ema(BoForc, smoothLength)\n",
        "\n",
        "    avg_abs = smoothForcBo.abs().tail(LATEST_N_DAYS).mean().item()\n",
        "    return avg_abs and 10 / avg_abs\n",
        "\n",
        "def raw_skew(returns, window):\n",
        "    return -returns.rolling(window).apply(skew, raw=True)\n",
        "\n",
        "def skew_scalar(returns, window):\n",
        "    raw    = raw_skew(returns, window)\n",
        "    smooth = raw.ewm(span=window * 4, adjust=False).mean()\n",
        "    avg_abs = smooth.abs().tail(LATEST_N_DAYS).mean()\n",
        "    return avg_abs and 10 / avg_abs"
      ]
    },
    {
      "cell_type": "code",
      "execution_count": null,
      "metadata": {
        "id": "oobzRLkhCzzP"
      },
      "outputs": [],
      "source": [
        "results   = []\n",
        "end_date  = datetime.datetime.today()\n",
        "start_date = end_date - datetime.timedelta(days=30*365)\n",
        "\n",
        "for symbol in instruments_for_scalars:\n",
        "    try:\n",
        "        df = client.get_dataframe(\n",
        "            symbol,\n",
        "            startDate=start_date.strftime(\"%Y-%m-%d\"),\n",
        "            endDate=  end_date.  strftime(\"%Y-%m-%d\"),\n",
        "            frequency='daily'\n",
        "        )\n",
        "    except Exception:\n",
        "        results.append([symbol] + [0]*13)\n",
        "        continue\n",
        "\n",
        "    df = (\n",
        "        df\n",
        "        .reset_index()\n",
        "        .rename(columns={\n",
        "            'date':     'Date',\n",
        "            'open':     'Open',\n",
        "            'high':     'High',\n",
        "            'low':      'Low',\n",
        "            'close':    'Close',\n",
        "            'adjClose': 'Adj Close'\n",
        "        })\n",
        "        .dropna()\n",
        "        .sort_values('Date')\n",
        "    )\n",
        "\n",
        "    if df.empty:\n",
        "        results.append([symbol] + [0]*13)\n",
        "        continue\n",
        "\n",
        "    add_adj_close(df)\n",
        "    df = compute_daily_price_vol(df)\n",
        "    close   = df[\"Adj Close\"].squeeze()\n",
        "    returns = close.pct_change().dropna()\n",
        "\n",
        "    rapidMoScalar, _, _      = momentum_scalar(close, df.dailyPriceVol, 8)\n",
        "    fastMoScalar, f_fast, f_slow = momentum_scalar(close, df.dailyPriceVol, 16)\n",
        "    medMoScalar, m_fast, m_slow  = momentum_scalar(close, df.dailyPriceVol, 32)\n",
        "    slowMoScalar, s_fast, s_slow = momentum_scalar(close, df.dailyPriceVol, 64)\n",
        "\n",
        "    scaledF = scal_forecast_mo(f_fast, f_slow, df[\"dailyPriceVol\"], fastMoScalar)\n",
        "    fastAc = acceleration_scalar(cap_forecast_ac(16, scaledF))\n",
        "\n",
        "    scaledM = scal_forecast_mo(m_fast, m_slow, df[\"dailyPriceVol\"], medMoScalar)\n",
        "    medAc  = acceleration_scalar(cap_forecast_ac(32, scaledM))\n",
        "\n",
        "    scaledS  = scal_forecast_mo(s_fast, s_slow, df[\"dailyPriceVol\"], slowMoScalar)\n",
        "    slowAc   = acceleration_scalar(cap_forecast_ac(64, scaledS))\n",
        "\n",
        "    br20 = breakout_scalar(df, 20)\n",
        "    br40 = breakout_scalar(df, 40)\n",
        "    br80 = breakout_scalar(df, 80)\n",
        "\n",
        "    sk60  = skew_scalar(returns, 60)\n",
        "    sk120 = skew_scalar(returns, 120)\n",
        "    sk240 = skew_scalar(returns, 240)\n",
        "\n",
        "    results.append([\n",
        "        symbol,\n",
        "        rapidMoScalar, fastMoScalar, medMoScalar, slowMoScalar,\n",
        "        fastAc, medAc, slowAc,\n",
        "        br20, br40, br80,\n",
        "        sk60, sk120, sk240\n",
        "    ])\n",
        "\n",
        "cols = [\n",
        "    \"Symbol\",\"rapidMo\",\"fastMo\",\"mediumMo\",\"slowMo\",\n",
        "    \"acFast\",\"acMedium\",\"acSlow\",\n",
        "    \"bo20\",\"bo40\",\"bo80\",\n",
        "    \"skew60\",\"skew120\",\"skew240\"\n",
        "]\n",
        "df_res      = pd.DataFrame(results, columns=cols)\n",
        "scalars_avg = df_res[cols[1:]].mean()\n",
        "averages    = scalars_avg.to_dict()"
      ]
    },
    {
      "cell_type": "markdown",
      "metadata": {
        "id": "h1_8A6NYDCcN"
      },
      "source": [
        "# 📌 Expected Dividend"
      ]
    },
    {
      "cell_type": "code",
      "source": [
        "client = TiingoClient({\"api_key\": apiKey})\n",
        "\n",
        "end_dt   = datetime.date.today()\n",
        "start_dt = end_dt - datetime.timedelta(days=365)\n",
        "\n",
        "for sym in eqView:\n",
        "    df = client.get_dataframe(\n",
        "        sym,\n",
        "        startDate=start_dt.isoformat(),\n",
        "        endDate=end_dt.isoformat(),\n",
        "        frequency=\"daily\"\n",
        "    )\n",
        "    if not df.empty and \"divCash\" in df and \"adjClose\" in df:\n",
        "        total_divs = df[\"divCash\"].fillna(0).sum()\n",
        "        last_price = df[\"adjClose\"].iloc[-1]\n",
        "        eqView[sym][\"expectedDiv\"] = total_divs / last_price\n",
        "    else:\n",
        "        eqView[sym][\"expectedDiv\"] = 0.0\n",
        "\n",
        "dividend_results = [\n",
        "    [sym, eqView[sym][\"expectedDiv\"]]\n",
        "    for sym in eqView\n",
        "]\n",
        "df_dividends = (\n",
        "    pd.DataFrame(dividend_results, columns=[\"Symbol\", \"expectedDiv\"])\n",
        "      .set_index(\"Symbol\")\n",
        ")\n",
        "\n",
        "print(\"\\n=== Each Ticker's Tiingo‐Fetched expectedDiv (%) ===\")\n",
        "print(df_dividends)"
      ],
      "metadata": {
        "colab": {
          "base_uri": "https://localhost:8080/"
        },
        "id": "a2m9xMgO7ApT",
        "outputId": "6c4eb9e9-542b-47a3-d612-d96f37ec7e5c"
      },
      "execution_count": null,
      "outputs": [
        {
          "output_type": "stream",
          "name": "stdout",
          "text": [
            "\n",
            "=== Each Ticker's Tiingo‐Fetched expectedDiv (%) ===\n",
            "        expectedDiv\n",
            "Symbol             \n",
            "JEPI       0.080738\n",
            "JEPQ       0.114933\n",
            "IDVO       0.057945\n",
            "DVYE       0.113498\n",
            "SGOV       0.047049\n"
          ]
        }
      ]
    },
    {
      "cell_type": "markdown",
      "metadata": {
        "id": "7nPBQdUgDJvz"
      },
      "source": [
        "# 📌 Forecast Calculation"
      ]
    },
    {
      "cell_type": "code",
      "execution_count": null,
      "metadata": {
        "id": "HXhRmpGBDIHB"
      },
      "outputs": [],
      "source": [
        "expected_div_map = dict(zip(df_dividends.index, df_dividends[\"expectedDiv\"]))"
      ]
    },
    {
      "cell_type": "code",
      "execution_count": null,
      "metadata": {
        "id": "VMiGJ3hmDNVV"
      },
      "outputs": [],
      "source": [
        "def compute_instRisk_dailyPriceVol(symbol, expoStdLength=expoStdLength):\n",
        "    df = client.get_dataframe(\n",
        "        symbol,\n",
        "        startDate=(datetime.datetime.now() - datetime.timedelta(days=365*10)).strftime(\"%Y-%m-%d\"),\n",
        "        endDate=  datetime.datetime.now().strftime(\"%Y-%m-%d\"),\n",
        "        frequency='daily'\n",
        "    )\n",
        "    if df.empty:\n",
        "        return None, None, None\n",
        "\n",
        "    df = (\n",
        "        df\n",
        "        .reset_index()\n",
        "        .rename(columns={\n",
        "            'date':     'Date',\n",
        "            'open':     'Open',\n",
        "            'high':     'High',\n",
        "            'low':      'Low',\n",
        "            'close':    'Close',\n",
        "            'adjClose': 'Adj Close'\n",
        "        })\n",
        "        .dropna()\n",
        "        .sort_values('Date')\n",
        "    )\n",
        "\n",
        "    close = add_adj_close(df)\n",
        "    returns = close.pct_change().dropna()\n",
        "    daily_exp_std_dev = returns.ewm(span=expoStdLength, adjust=False).std()\n",
        "\n",
        "    ten_year_window = BUSINESS_DAYS_IN_YEAR * 10\n",
        "    ten_year_vol = daily_exp_std_dev.rolling(ten_year_window, min_periods=1).mean()\n",
        "\n",
        "    weighted_vol = 0.7 * daily_exp_std_dev + 0.3 * ten_year_vol\n",
        "    dailyPercentVol = weighted_vol.iloc[-1]\n",
        "    last_close = close.iloc[-1]\n",
        "    dailyPriceVol = dailyPercentVol * last_close\n",
        "    instRisk = round(dailyPercentVol * 16, 6)\n",
        "    return instRisk, dailyPriceVol, df\n",
        "\n",
        "def momentum_forecast(df, base_len, scalar, dailyPriceVol):\n",
        "    raw_scaledForc, _, _ = raw_momentum(df, dailyPriceVol, base_len, scalar)\n",
        "    return np.clip(raw_scaledForc.iloc[-1], lowerForeCap, upperForeCap), raw_scaledForc\n",
        "\n",
        "def acceleration_forecast(period, raw_scaledForc_series, forecastAcScalar):\n",
        "    forcAc = raw_scaledForc_series.iloc[-1] - raw_scaledForc_series.iloc[-period]\n",
        "    scaledForcAc = forcAc * forecastAcScalar\n",
        "    return np.clip(scaledForcAc, lowerForeCap, upperForeCap)\n",
        "\n",
        "def breakout_forecast(df, break_length, ForecastScalar):\n",
        "    close_val = df.Close.iloc[-1]\n",
        "    high = df.High.tail(break_length).max()\n",
        "    low  = df.Low.tail(break_length).min()\n",
        "    hl_range = high - low\n",
        "    if hl_range == 0:\n",
        "        return 0.0\n",
        "\n",
        "    mean_val    = (high + low) / 2\n",
        "    BoForc      = (40 * (close_val - mean_val)) / hl_range\n",
        "    scaledForc  = BoForc * ForecastScalar\n",
        "\n",
        "    return np.clip(scaledForc, lowerForeCap, upperForeCap)\n",
        "\n",
        "def carry_forecast(df, expectedDiv, smoothLength, instRisk, ForecastScalar):\n",
        "    if instRisk == 0:\n",
        "        return 0.0\n",
        "\n",
        "    cr_forc = pd.Series((expectedDiv * ForecastScalar) / instRisk)\n",
        "    scaledForcCr = ema(cr_forc, smoothLength).iloc[-1]\n",
        "\n",
        "    return np.clip(scaledForcCr, lowerForeCap, upperForeCap)\n",
        "\n",
        "def raw_skew(series, window):\n",
        "    return -series.rolling(window).apply(skew, raw=True)\n",
        "\n",
        "def skew_forecast(returns, window, scalar):\n",
        "    raw   = raw_skew(returns, window)\n",
        "    smooth = raw.ewm(span=window*4, adjust=False).mean()\n",
        "    latest = smooth.iloc[-1] * scalar\n",
        "    return np.clip(latest, lowerForeCap, upperForeCap)\n",
        "\n",
        "def combine_forecasts(cappedMo, cappedAc, cappedBo, cappedCr, cappedSk):\n",
        "    combForc = (\n",
        "        cappedMo * moProp +\n",
        "        cappedAc * acProp +\n",
        "        cappedBo * boProp +\n",
        "        cappedCr * crProp +\n",
        "        cappedSk * skProp\n",
        "    )\n",
        "    scalCombForc = combForc * forcastDiverMuliplier\n",
        "    cappedCombForc = np.clip(scalCombForc, lowerForeCap, upperForeCap)\n",
        "    return cappedCombForc / 10"
      ]
    },
    {
      "cell_type": "code",
      "execution_count": null,
      "metadata": {
        "id": "GjtChKo1DOyp"
      },
      "outputs": [],
      "source": [
        "final_results = []\n",
        "for symbol in expected_div_map:\n",
        "    instRisk, dailyPriceVol, df_data = compute_instRisk_dailyPriceVol(symbol, expoStdLength)\n",
        "    if df_data is None:\n",
        "        final_results.append([symbol, None, None]); continue\n",
        "\n",
        "    close   = add_adj_close(df_data)\n",
        "    returns = close.pct_change().dropna()\n",
        "    expectedDiv = expected_div_map[symbol]\n",
        "\n",
        "    cappedForcR, _ = momentum_forecast(close, 8, scalars_avg.rapidMo, dailyPriceVol)\n",
        "    cappedForcF, rawScaledForcF = momentum_forecast(close, 16, scalars_avg.fastMo, dailyPriceVol)\n",
        "    cappedForcM, rawScaledForcM = momentum_forecast(close, 32, scalars_avg.mediumMo, dailyPriceVol)\n",
        "    cappedForcS, rawScaledForcS = momentum_forecast(close, 64, scalars_avg.slowMo, dailyPriceVol)\n",
        "    cappedForcMo = np.mean([cappedForcR, cappedForcF, cappedForcM, cappedForcS])\n",
        "\n",
        "    cappedForcFAc = acceleration_forecast(16, rawScaledForcF, scalars_avg.acFast)\n",
        "    cappedForcMAc = acceleration_forecast(32, rawScaledForcM, scalars_avg.acMedium)\n",
        "    cappedForcSAc = acceleration_forecast(64, rawScaledForcS, scalars_avg.acSlow)\n",
        "    cappedForcAc = np.mean([cappedForcFAc, cappedForcMAc, cappedForcSAc])\n",
        "\n",
        "    cappedForcBo20 = breakout_forecast(df_data, 20, scalars_avg.bo20)\n",
        "    cappedForcBo40 = breakout_forecast(df_data, 40, scalars_avg.bo40)\n",
        "    cappedForcBo80 = breakout_forecast(df_data, 80, scalars_avg.bo80)\n",
        "    cappedForcBo = np.mean([cappedForcBo20, cappedForcBo40, cappedForcBo80])\n",
        "\n",
        "    cappedForcCr20 = carry_forecast(df_data, expectedDiv, 20, instRisk, crScalar)\n",
        "    cappedForcCr60 = carry_forecast(df_data, expectedDiv, 60, instRisk, crScalar)\n",
        "    cappedForcCr120 = carry_forecast(df_data, expectedDiv, 120, instRisk, crScalar)\n",
        "    cappedForcCr = np.mean([cappedForcCr20, cappedForcCr60, cappedForcCr120])\n",
        "\n",
        "    cappedSk60  = skew_forecast(returns, 60 , scalars_avg.skew60)\n",
        "    cappedSk120 = skew_forecast(returns, 120, scalars_avg.skew120)\n",
        "    cappedSk240 = skew_forecast(returns, 240, scalars_avg.skew240)\n",
        "    cappedForcSk = np.mean([cappedSk60, cappedSk120, cappedSk240])\n",
        "\n",
        "    rawCombForc = combine_forecasts(cappedForcMo, cappedForcAc,cappedForcBo, cappedForcCr, cappedForcSk)\n",
        "    adjCombForc = np.clip(rawCombForc, lowerAdjForeCap, upperForeCap)\n",
        "\n",
        "    expectedExRet = adjCombForc * instRisk\n",
        "    omega_i       = instRisk ** 2\n",
        "\n",
        "    final_results.append([symbol, cappedForcMo, cappedForcAc, cappedForcBo, cappedForcCr, cappedForcSk, adjCombForc, instRisk, expectedExRet, omega_i])"
      ]
    },
    {
      "cell_type": "code",
      "execution_count": null,
      "metadata": {
        "id": "fHC8mTw6DT-d"
      },
      "outputs": [],
      "source": [
        "df_final = pd.DataFrame(\n",
        "    final_results,\n",
        "    columns=[\"Symbol\", \"cappedForcMo\", \"cappedForcAc\", \"cappedForcBo\", \"cappedForcCr\", \"cappedForcSk\", \"adjCombForc\", \"instRisk\", \"expectedExRet\", \"omega_i\"],\n",
        ").set_index(\"Symbol\")"
      ]
    },
    {
      "cell_type": "markdown",
      "metadata": {
        "id": "REXMX8D7JLI3"
      },
      "source": [
        "# 📌 Scalar & Forecast"
      ]
    },
    {
      "cell_type": "code",
      "source": [
        "scalars_avg"
      ],
      "metadata": {
        "colab": {
          "base_uri": "https://localhost:8080/",
          "height": 492
        },
        "id": "tGT4NK-PSgSj",
        "outputId": "68e49b68-231c-44dd-a568-c9ca83413adb"
      },
      "execution_count": null,
      "outputs": [
        {
          "output_type": "execute_result",
          "data": {
            "text/plain": [
              "rapidMo      8.419426\n",
              "fastMo       5.936618\n",
              "mediumMo     4.181477\n",
              "slowMo       2.994910\n",
              "acFast       1.435908\n",
              "acMedium     1.431284\n",
              "acSlow       1.420803\n",
              "bo20         1.011263\n",
              "bo40         1.039123\n",
              "bo80         1.036000\n",
              "skew60      38.911388\n",
              "skew120     42.989148\n",
              "skew240     46.129554\n",
              "dtype: float64"
            ],
            "text/html": [
              "<div>\n",
              "<style scoped>\n",
              "    .dataframe tbody tr th:only-of-type {\n",
              "        vertical-align: middle;\n",
              "    }\n",
              "\n",
              "    .dataframe tbody tr th {\n",
              "        vertical-align: top;\n",
              "    }\n",
              "\n",
              "    .dataframe thead th {\n",
              "        text-align: right;\n",
              "    }\n",
              "</style>\n",
              "<table border=\"1\" class=\"dataframe\">\n",
              "  <thead>\n",
              "    <tr style=\"text-align: right;\">\n",
              "      <th></th>\n",
              "      <th>0</th>\n",
              "    </tr>\n",
              "  </thead>\n",
              "  <tbody>\n",
              "    <tr>\n",
              "      <th>rapidMo</th>\n",
              "      <td>8.419426</td>\n",
              "    </tr>\n",
              "    <tr>\n",
              "      <th>fastMo</th>\n",
              "      <td>5.936618</td>\n",
              "    </tr>\n",
              "    <tr>\n",
              "      <th>mediumMo</th>\n",
              "      <td>4.181477</td>\n",
              "    </tr>\n",
              "    <tr>\n",
              "      <th>slowMo</th>\n",
              "      <td>2.994910</td>\n",
              "    </tr>\n",
              "    <tr>\n",
              "      <th>acFast</th>\n",
              "      <td>1.435908</td>\n",
              "    </tr>\n",
              "    <tr>\n",
              "      <th>acMedium</th>\n",
              "      <td>1.431284</td>\n",
              "    </tr>\n",
              "    <tr>\n",
              "      <th>acSlow</th>\n",
              "      <td>1.420803</td>\n",
              "    </tr>\n",
              "    <tr>\n",
              "      <th>bo20</th>\n",
              "      <td>1.011263</td>\n",
              "    </tr>\n",
              "    <tr>\n",
              "      <th>bo40</th>\n",
              "      <td>1.039123</td>\n",
              "    </tr>\n",
              "    <tr>\n",
              "      <th>bo80</th>\n",
              "      <td>1.036000</td>\n",
              "    </tr>\n",
              "    <tr>\n",
              "      <th>skew60</th>\n",
              "      <td>38.911388</td>\n",
              "    </tr>\n",
              "    <tr>\n",
              "      <th>skew120</th>\n",
              "      <td>42.989148</td>\n",
              "    </tr>\n",
              "    <tr>\n",
              "      <th>skew240</th>\n",
              "      <td>46.129554</td>\n",
              "    </tr>\n",
              "  </tbody>\n",
              "</table>\n",
              "</div><br><label><b>dtype:</b> float64</label>"
            ]
          },
          "metadata": {},
          "execution_count": 103
        }
      ]
    },
    {
      "cell_type": "code",
      "source": [
        "df_final"
      ],
      "metadata": {
        "colab": {
          "base_uri": "https://localhost:8080/",
          "height": 238
        },
        "id": "PclwBbx1SXFW",
        "outputId": "a5999686-5398-45d7-d60b-06e21bc8800a"
      },
      "execution_count": null,
      "outputs": [
        {
          "output_type": "execute_result",
          "data": {
            "text/plain": [
              "        cappedForcMo  cappedForcAc  cappedForcBo  cappedForcCr  cappedForcSk  \\\n",
              "Symbol                                                                         \n",
              "JEPI       -5.438826     -2.598665      9.964936     12.275251     17.106058   \n",
              "JEPQ       -5.420370     -2.816357      9.809962     12.619320     11.924761   \n",
              "IDVO        5.283139      4.444706     14.137254      7.525164      7.297758   \n",
              "DVYE        2.488101      5.127402     16.084299     14.655776     20.000000   \n",
              "SGOV       -1.043068     -0.548902     -4.375269     20.000000     20.000000   \n",
              "\n",
              "        adjCombForc  instRisk  expectedExRet   omega_i  \n",
              "Symbol                                                  \n",
              "JEPI       1.064498  0.197319       0.210046  0.038935  \n",
              "JEPQ       0.887989  0.273231       0.242626  0.074655  \n",
              "IDVO       1.315393  0.231006       0.303864  0.053364  \n",
              "DVYE       1.984090  0.232327       0.460958  0.053976  \n",
              "SGOV       1.157114  0.011163       0.012917  0.000125  "
            ],
            "text/html": [
              "\n",
              "  <div id=\"df-db7d8961-3b86-48a1-bc3d-dd9ed19b9594\" class=\"colab-df-container\">\n",
              "    <div>\n",
              "<style scoped>\n",
              "    .dataframe tbody tr th:only-of-type {\n",
              "        vertical-align: middle;\n",
              "    }\n",
              "\n",
              "    .dataframe tbody tr th {\n",
              "        vertical-align: top;\n",
              "    }\n",
              "\n",
              "    .dataframe thead th {\n",
              "        text-align: right;\n",
              "    }\n",
              "</style>\n",
              "<table border=\"1\" class=\"dataframe\">\n",
              "  <thead>\n",
              "    <tr style=\"text-align: right;\">\n",
              "      <th></th>\n",
              "      <th>cappedForcMo</th>\n",
              "      <th>cappedForcAc</th>\n",
              "      <th>cappedForcBo</th>\n",
              "      <th>cappedForcCr</th>\n",
              "      <th>cappedForcSk</th>\n",
              "      <th>adjCombForc</th>\n",
              "      <th>instRisk</th>\n",
              "      <th>expectedExRet</th>\n",
              "      <th>omega_i</th>\n",
              "    </tr>\n",
              "    <tr>\n",
              "      <th>Symbol</th>\n",
              "      <th></th>\n",
              "      <th></th>\n",
              "      <th></th>\n",
              "      <th></th>\n",
              "      <th></th>\n",
              "      <th></th>\n",
              "      <th></th>\n",
              "      <th></th>\n",
              "      <th></th>\n",
              "    </tr>\n",
              "  </thead>\n",
              "  <tbody>\n",
              "    <tr>\n",
              "      <th>JEPI</th>\n",
              "      <td>-5.438826</td>\n",
              "      <td>-2.598665</td>\n",
              "      <td>9.964936</td>\n",
              "      <td>12.275251</td>\n",
              "      <td>17.106058</td>\n",
              "      <td>1.064498</td>\n",
              "      <td>0.197319</td>\n",
              "      <td>0.210046</td>\n",
              "      <td>0.038935</td>\n",
              "    </tr>\n",
              "    <tr>\n",
              "      <th>JEPQ</th>\n",
              "      <td>-5.420370</td>\n",
              "      <td>-2.816357</td>\n",
              "      <td>9.809962</td>\n",
              "      <td>12.619320</td>\n",
              "      <td>11.924761</td>\n",
              "      <td>0.887989</td>\n",
              "      <td>0.273231</td>\n",
              "      <td>0.242626</td>\n",
              "      <td>0.074655</td>\n",
              "    </tr>\n",
              "    <tr>\n",
              "      <th>IDVO</th>\n",
              "      <td>5.283139</td>\n",
              "      <td>4.444706</td>\n",
              "      <td>14.137254</td>\n",
              "      <td>7.525164</td>\n",
              "      <td>7.297758</td>\n",
              "      <td>1.315393</td>\n",
              "      <td>0.231006</td>\n",
              "      <td>0.303864</td>\n",
              "      <td>0.053364</td>\n",
              "    </tr>\n",
              "    <tr>\n",
              "      <th>DVYE</th>\n",
              "      <td>2.488101</td>\n",
              "      <td>5.127402</td>\n",
              "      <td>16.084299</td>\n",
              "      <td>14.655776</td>\n",
              "      <td>20.000000</td>\n",
              "      <td>1.984090</td>\n",
              "      <td>0.232327</td>\n",
              "      <td>0.460958</td>\n",
              "      <td>0.053976</td>\n",
              "    </tr>\n",
              "    <tr>\n",
              "      <th>SGOV</th>\n",
              "      <td>-1.043068</td>\n",
              "      <td>-0.548902</td>\n",
              "      <td>-4.375269</td>\n",
              "      <td>20.000000</td>\n",
              "      <td>20.000000</td>\n",
              "      <td>1.157114</td>\n",
              "      <td>0.011163</td>\n",
              "      <td>0.012917</td>\n",
              "      <td>0.000125</td>\n",
              "    </tr>\n",
              "  </tbody>\n",
              "</table>\n",
              "</div>\n",
              "    <div class=\"colab-df-buttons\">\n",
              "\n",
              "  <div class=\"colab-df-container\">\n",
              "    <button class=\"colab-df-convert\" onclick=\"convertToInteractive('df-db7d8961-3b86-48a1-bc3d-dd9ed19b9594')\"\n",
              "            title=\"Convert this dataframe to an interactive table.\"\n",
              "            style=\"display:none;\">\n",
              "\n",
              "  <svg xmlns=\"http://www.w3.org/2000/svg\" height=\"24px\" viewBox=\"0 -960 960 960\">\n",
              "    <path d=\"M120-120v-720h720v720H120Zm60-500h600v-160H180v160Zm220 220h160v-160H400v160Zm0 220h160v-160H400v160ZM180-400h160v-160H180v160Zm440 0h160v-160H620v160ZM180-180h160v-160H180v160Zm440 0h160v-160H620v160Z\"/>\n",
              "  </svg>\n",
              "    </button>\n",
              "\n",
              "  <style>\n",
              "    .colab-df-container {\n",
              "      display:flex;\n",
              "      gap: 12px;\n",
              "    }\n",
              "\n",
              "    .colab-df-convert {\n",
              "      background-color: #E8F0FE;\n",
              "      border: none;\n",
              "      border-radius: 50%;\n",
              "      cursor: pointer;\n",
              "      display: none;\n",
              "      fill: #1967D2;\n",
              "      height: 32px;\n",
              "      padding: 0 0 0 0;\n",
              "      width: 32px;\n",
              "    }\n",
              "\n",
              "    .colab-df-convert:hover {\n",
              "      background-color: #E2EBFA;\n",
              "      box-shadow: 0px 1px 2px rgba(60, 64, 67, 0.3), 0px 1px 3px 1px rgba(60, 64, 67, 0.15);\n",
              "      fill: #174EA6;\n",
              "    }\n",
              "\n",
              "    .colab-df-buttons div {\n",
              "      margin-bottom: 4px;\n",
              "    }\n",
              "\n",
              "    [theme=dark] .colab-df-convert {\n",
              "      background-color: #3B4455;\n",
              "      fill: #D2E3FC;\n",
              "    }\n",
              "\n",
              "    [theme=dark] .colab-df-convert:hover {\n",
              "      background-color: #434B5C;\n",
              "      box-shadow: 0px 1px 3px 1px rgba(0, 0, 0, 0.15);\n",
              "      filter: drop-shadow(0px 1px 2px rgba(0, 0, 0, 0.3));\n",
              "      fill: #FFFFFF;\n",
              "    }\n",
              "  </style>\n",
              "\n",
              "    <script>\n",
              "      const buttonEl =\n",
              "        document.querySelector('#df-db7d8961-3b86-48a1-bc3d-dd9ed19b9594 button.colab-df-convert');\n",
              "      buttonEl.style.display =\n",
              "        google.colab.kernel.accessAllowed ? 'block' : 'none';\n",
              "\n",
              "      async function convertToInteractive(key) {\n",
              "        const element = document.querySelector('#df-db7d8961-3b86-48a1-bc3d-dd9ed19b9594');\n",
              "        const dataTable =\n",
              "          await google.colab.kernel.invokeFunction('convertToInteractive',\n",
              "                                                    [key], {});\n",
              "        if (!dataTable) return;\n",
              "\n",
              "        const docLinkHtml = 'Like what you see? Visit the ' +\n",
              "          '<a target=\"_blank\" href=https://colab.research.google.com/notebooks/data_table.ipynb>data table notebook</a>'\n",
              "          + ' to learn more about interactive tables.';\n",
              "        element.innerHTML = '';\n",
              "        dataTable['output_type'] = 'display_data';\n",
              "        await google.colab.output.renderOutput(dataTable, element);\n",
              "        const docLink = document.createElement('div');\n",
              "        docLink.innerHTML = docLinkHtml;\n",
              "        element.appendChild(docLink);\n",
              "      }\n",
              "    </script>\n",
              "  </div>\n",
              "\n",
              "\n",
              "    <div id=\"df-dd228c8d-9714-49f5-81b1-924b1e15ec04\">\n",
              "      <button class=\"colab-df-quickchart\" onclick=\"quickchart('df-dd228c8d-9714-49f5-81b1-924b1e15ec04')\"\n",
              "                title=\"Suggest charts\"\n",
              "                style=\"display:none;\">\n",
              "\n",
              "<svg xmlns=\"http://www.w3.org/2000/svg\" height=\"24px\"viewBox=\"0 0 24 24\"\n",
              "     width=\"24px\">\n",
              "    <g>\n",
              "        <path d=\"M19 3H5c-1.1 0-2 .9-2 2v14c0 1.1.9 2 2 2h14c1.1 0 2-.9 2-2V5c0-1.1-.9-2-2-2zM9 17H7v-7h2v7zm4 0h-2V7h2v10zm4 0h-2v-4h2v4z\"/>\n",
              "    </g>\n",
              "</svg>\n",
              "      </button>\n",
              "\n",
              "<style>\n",
              "  .colab-df-quickchart {\n",
              "      --bg-color: #E8F0FE;\n",
              "      --fill-color: #1967D2;\n",
              "      --hover-bg-color: #E2EBFA;\n",
              "      --hover-fill-color: #174EA6;\n",
              "      --disabled-fill-color: #AAA;\n",
              "      --disabled-bg-color: #DDD;\n",
              "  }\n",
              "\n",
              "  [theme=dark] .colab-df-quickchart {\n",
              "      --bg-color: #3B4455;\n",
              "      --fill-color: #D2E3FC;\n",
              "      --hover-bg-color: #434B5C;\n",
              "      --hover-fill-color: #FFFFFF;\n",
              "      --disabled-bg-color: #3B4455;\n",
              "      --disabled-fill-color: #666;\n",
              "  }\n",
              "\n",
              "  .colab-df-quickchart {\n",
              "    background-color: var(--bg-color);\n",
              "    border: none;\n",
              "    border-radius: 50%;\n",
              "    cursor: pointer;\n",
              "    display: none;\n",
              "    fill: var(--fill-color);\n",
              "    height: 32px;\n",
              "    padding: 0;\n",
              "    width: 32px;\n",
              "  }\n",
              "\n",
              "  .colab-df-quickchart:hover {\n",
              "    background-color: var(--hover-bg-color);\n",
              "    box-shadow: 0 1px 2px rgba(60, 64, 67, 0.3), 0 1px 3px 1px rgba(60, 64, 67, 0.15);\n",
              "    fill: var(--button-hover-fill-color);\n",
              "  }\n",
              "\n",
              "  .colab-df-quickchart-complete:disabled,\n",
              "  .colab-df-quickchart-complete:disabled:hover {\n",
              "    background-color: var(--disabled-bg-color);\n",
              "    fill: var(--disabled-fill-color);\n",
              "    box-shadow: none;\n",
              "  }\n",
              "\n",
              "  .colab-df-spinner {\n",
              "    border: 2px solid var(--fill-color);\n",
              "    border-color: transparent;\n",
              "    border-bottom-color: var(--fill-color);\n",
              "    animation:\n",
              "      spin 1s steps(1) infinite;\n",
              "  }\n",
              "\n",
              "  @keyframes spin {\n",
              "    0% {\n",
              "      border-color: transparent;\n",
              "      border-bottom-color: var(--fill-color);\n",
              "      border-left-color: var(--fill-color);\n",
              "    }\n",
              "    20% {\n",
              "      border-color: transparent;\n",
              "      border-left-color: var(--fill-color);\n",
              "      border-top-color: var(--fill-color);\n",
              "    }\n",
              "    30% {\n",
              "      border-color: transparent;\n",
              "      border-left-color: var(--fill-color);\n",
              "      border-top-color: var(--fill-color);\n",
              "      border-right-color: var(--fill-color);\n",
              "    }\n",
              "    40% {\n",
              "      border-color: transparent;\n",
              "      border-right-color: var(--fill-color);\n",
              "      border-top-color: var(--fill-color);\n",
              "    }\n",
              "    60% {\n",
              "      border-color: transparent;\n",
              "      border-right-color: var(--fill-color);\n",
              "    }\n",
              "    80% {\n",
              "      border-color: transparent;\n",
              "      border-right-color: var(--fill-color);\n",
              "      border-bottom-color: var(--fill-color);\n",
              "    }\n",
              "    90% {\n",
              "      border-color: transparent;\n",
              "      border-bottom-color: var(--fill-color);\n",
              "    }\n",
              "  }\n",
              "</style>\n",
              "\n",
              "      <script>\n",
              "        async function quickchart(key) {\n",
              "          const quickchartButtonEl =\n",
              "            document.querySelector('#' + key + ' button');\n",
              "          quickchartButtonEl.disabled = true;  // To prevent multiple clicks.\n",
              "          quickchartButtonEl.classList.add('colab-df-spinner');\n",
              "          try {\n",
              "            const charts = await google.colab.kernel.invokeFunction(\n",
              "                'suggestCharts', [key], {});\n",
              "          } catch (error) {\n",
              "            console.error('Error during call to suggestCharts:', error);\n",
              "          }\n",
              "          quickchartButtonEl.classList.remove('colab-df-spinner');\n",
              "          quickchartButtonEl.classList.add('colab-df-quickchart-complete');\n",
              "        }\n",
              "        (() => {\n",
              "          let quickchartButtonEl =\n",
              "            document.querySelector('#df-dd228c8d-9714-49f5-81b1-924b1e15ec04 button');\n",
              "          quickchartButtonEl.style.display =\n",
              "            google.colab.kernel.accessAllowed ? 'block' : 'none';\n",
              "        })();\n",
              "      </script>\n",
              "    </div>\n",
              "\n",
              "  <div id=\"id_44abd7e1-331c-4597-bb2b-a8a87c46c3e3\">\n",
              "    <style>\n",
              "      .colab-df-generate {\n",
              "        background-color: #E8F0FE;\n",
              "        border: none;\n",
              "        border-radius: 50%;\n",
              "        cursor: pointer;\n",
              "        display: none;\n",
              "        fill: #1967D2;\n",
              "        height: 32px;\n",
              "        padding: 0 0 0 0;\n",
              "        width: 32px;\n",
              "      }\n",
              "\n",
              "      .colab-df-generate:hover {\n",
              "        background-color: #E2EBFA;\n",
              "        box-shadow: 0px 1px 2px rgba(60, 64, 67, 0.3), 0px 1px 3px 1px rgba(60, 64, 67, 0.15);\n",
              "        fill: #174EA6;\n",
              "      }\n",
              "\n",
              "      [theme=dark] .colab-df-generate {\n",
              "        background-color: #3B4455;\n",
              "        fill: #D2E3FC;\n",
              "      }\n",
              "\n",
              "      [theme=dark] .colab-df-generate:hover {\n",
              "        background-color: #434B5C;\n",
              "        box-shadow: 0px 1px 3px 1px rgba(0, 0, 0, 0.15);\n",
              "        filter: drop-shadow(0px 1px 2px rgba(0, 0, 0, 0.3));\n",
              "        fill: #FFFFFF;\n",
              "      }\n",
              "    </style>\n",
              "    <button class=\"colab-df-generate\" onclick=\"generateWithVariable('df_final')\"\n",
              "            title=\"Generate code using this dataframe.\"\n",
              "            style=\"display:none;\">\n",
              "\n",
              "  <svg xmlns=\"http://www.w3.org/2000/svg\" height=\"24px\"viewBox=\"0 0 24 24\"\n",
              "       width=\"24px\">\n",
              "    <path d=\"M7,19H8.4L18.45,9,17,7.55,7,17.6ZM5,21V16.75L18.45,3.32a2,2,0,0,1,2.83,0l1.4,1.43a1.91,1.91,0,0,1,.58,1.4,1.91,1.91,0,0,1-.58,1.4L9.25,21ZM18.45,9,17,7.55Zm-12,3A5.31,5.31,0,0,0,4.9,8.1,5.31,5.31,0,0,0,1,6.5,5.31,5.31,0,0,0,4.9,4.9,5.31,5.31,0,0,0,6.5,1,5.31,5.31,0,0,0,8.1,4.9,5.31,5.31,0,0,0,12,6.5,5.46,5.46,0,0,0,6.5,12Z\"/>\n",
              "  </svg>\n",
              "    </button>\n",
              "    <script>\n",
              "      (() => {\n",
              "      const buttonEl =\n",
              "        document.querySelector('#id_44abd7e1-331c-4597-bb2b-a8a87c46c3e3 button.colab-df-generate');\n",
              "      buttonEl.style.display =\n",
              "        google.colab.kernel.accessAllowed ? 'block' : 'none';\n",
              "\n",
              "      buttonEl.onclick = () => {\n",
              "        google.colab.notebook.generateWithVariable('df_final');\n",
              "      }\n",
              "      })();\n",
              "    </script>\n",
              "  </div>\n",
              "\n",
              "    </div>\n",
              "  </div>\n"
            ],
            "application/vnd.google.colaboratory.intrinsic+json": {
              "type": "dataframe",
              "variable_name": "df_final",
              "summary": "{\n  \"name\": \"df_final\",\n  \"rows\": 5,\n  \"fields\": [\n    {\n      \"column\": \"Symbol\",\n      \"properties\": {\n        \"dtype\": \"string\",\n        \"num_unique_values\": 5,\n        \"samples\": [\n          \"JEPQ\",\n          \"SGOV\",\n          \"IDVO\"\n        ],\n        \"semantic_type\": \"\",\n        \"description\": \"\"\n      }\n    },\n    {\n      \"column\": \"cappedForcMo\",\n      \"properties\": {\n        \"dtype\": \"number\",\n        \"std\": 4.762834235099719,\n        \"min\": -5.438825597941008,\n        \"max\": 5.28313867715824,\n        \"num_unique_values\": 5,\n        \"samples\": [\n          -5.420370325034143,\n          -1.043068173757303,\n          5.28313867715824\n        ],\n        \"semantic_type\": \"\",\n        \"description\": \"\"\n      }\n    },\n    {\n      \"column\": \"cappedForcAc\",\n      \"properties\": {\n        \"dtype\": \"number\",\n        \"std\": 3.8219131777280584,\n        \"min\": -2.8163565679611664,\n        \"max\": 5.127402256737305,\n        \"num_unique_values\": 5,\n        \"samples\": [\n          -2.8163565679611664,\n          -0.5489022423464268,\n          4.444705920226707\n        ],\n        \"semantic_type\": \"\",\n        \"description\": \"\"\n      }\n    },\n    {\n      \"column\": \"cappedForcBo\",\n      \"properties\": {\n        \"dtype\": \"number\",\n        \"std\": 8.015398498878776,\n        \"min\": -4.37526886685048,\n        \"max\": 16.084298761996802,\n        \"num_unique_values\": 5,\n        \"samples\": [\n          9.809961564205464,\n          -4.37526886685048,\n          14.137254158552077\n        ],\n        \"semantic_type\": \"\",\n        \"description\": \"\"\n      }\n    },\n    {\n      \"column\": \"cappedForcCr\",\n      \"properties\": {\n        \"dtype\": \"number\",\n        \"std\": 4.514533487977448,\n        \"min\": 7.5251641135922425,\n        \"max\": 20.0,\n        \"num_unique_values\": 5,\n        \"samples\": [\n          12.619320432032074,\n          20.0,\n          7.5251641135922425\n        ],\n        \"semantic_type\": \"\",\n        \"description\": \"\"\n      }\n    },\n    {\n      \"column\": \"cappedForcSk\",\n      \"properties\": {\n        \"dtype\": \"number\",\n        \"std\": 5.542203763042862,\n        \"min\": 7.297757694011506,\n        \"max\": 20.0,\n        \"num_unique_values\": 4,\n        \"samples\": [\n          11.924760748906062,\n          20.0,\n          17.106057996274924\n        ],\n        \"semantic_type\": \"\",\n        \"description\": \"\"\n      }\n    },\n    {\n      \"column\": \"adjCombForc\",\n      \"properties\": {\n        \"dtype\": \"number\",\n        \"std\": 0.421957779724683,\n        \"min\": 0.8879887389730419,\n        \"max\": 1.984089646842396,\n        \"num_unique_values\": 5,\n        \"samples\": [\n          0.8879887389730419,\n          1.1571138643795569,\n          1.3153926991603861\n        ],\n        \"semantic_type\": \"\",\n        \"description\": \"\"\n      }\n    },\n    {\n      \"column\": \"instRisk\",\n      \"properties\": {\n        \"dtype\": \"number\",\n        \"std\": 0.10299490064173081,\n        \"min\": 0.011163,\n        \"max\": 0.273231,\n        \"num_unique_values\": 5,\n        \"samples\": [\n          0.273231,\n          0.011163,\n          0.231006\n        ],\n        \"semantic_type\": \"\",\n        \"description\": \"\"\n      }\n    },\n    {\n      \"column\": \"expectedExRet\",\n      \"properties\": {\n        \"dtype\": \"number\",\n        \"std\": 0.16216255883059313,\n        \"min\": 0.012916862068068993,\n        \"max\": 0.46095759538195336,\n        \"num_unique_values\": 5,\n        \"samples\": [\n          0.2426260511383432,\n          0.012916862068068993,\n          0.30386360586224415\n        ],\n        \"semantic_type\": \"\",\n        \"description\": \"\"\n      }\n    },\n    {\n      \"column\": \"omega_i\",\n      \"properties\": {\n        \"dtype\": \"number\",\n        \"std\": 0.027737255029442093,\n        \"min\": 0.000124612569,\n        \"max\": 0.074655179361,\n        \"num_unique_values\": 5,\n        \"samples\": [\n          0.074655179361,\n          0.000124612569,\n          0.053363772036\n        ],\n        \"semantic_type\": \"\",\n        \"description\": \"\"\n      }\n    }\n  ]\n}"
            }
          },
          "metadata": {},
          "execution_count": 104
        }
      ]
    },
    {
      "cell_type": "markdown",
      "metadata": {
        "id": "kV1Bnke5NYpd"
      },
      "source": [
        "# 📌 Data for Black-Litterman"
      ]
    },
    {
      "cell_type": "code",
      "source": [
        "end_dt   = datetime.datetime.now()\n",
        "start_dt = end_dt - datetime.timedelta(days=365*100)\n",
        "tz       = pytz.timezone(\"America/New_York\")\n",
        "start_dt = tz.localize(start_dt)\n",
        "end_dt   = tz.localize(end_dt)\n",
        "\n",
        "start_str = start_dt.strftime(\"%Y-%m-%d\")\n",
        "end_str   = end_dt.strftime(\"%Y-%m-%d\")"
      ],
      "metadata": {
        "id": "uVzjpbyopBL9"
      },
      "execution_count": null,
      "outputs": []
    },
    {
      "cell_type": "code",
      "execution_count": null,
      "metadata": {
        "id": "A2gi-HqvNdwf"
      },
      "outputs": [],
      "source": [
        "prices = client.get_dataframe(\n",
        "    dividend_symbols,\n",
        "    startDate=start_str,\n",
        "    endDate=end_str,\n",
        "    frequency='daily',\n",
        "    metric_name='adjClose'\n",
        ")"
      ]
    },
    {
      "cell_type": "code",
      "execution_count": null,
      "metadata": {
        "id": "rWbIXZpVNmBF"
      },
      "outputs": [],
      "source": [
        "market_prices = client.get_dataframe(\n",
        "    'SPY',\n",
        "    startDate=start_str,\n",
        "    endDate=end_str,\n",
        "    frequency='daily',\n",
        "    metric_name='adjClose'\n",
        ")"
      ]
    },
    {
      "cell_type": "code",
      "execution_count": null,
      "metadata": {
        "id": "0_38FwbHNm2_",
        "colab": {
          "base_uri": "https://localhost:8080/"
        },
        "outputId": "1bc9499d-64a2-42bc-a036-697f4830c31b"
      },
      "outputs": [
        {
          "output_type": "stream",
          "name": "stdout",
          "text": [
            "{'JEPI': 39240000000, 'JEPQ': 24720000000, 'IDVO': 233500000, 'DVYE': 751240000, 'SGOV': 46950000000}\n"
          ]
        }
      ],
      "source": [
        "mcaps = { symbol: props[\"mcap\"] for symbol, props in eqView.items() }\n",
        "print(mcaps)"
      ]
    },
    {
      "cell_type": "markdown",
      "metadata": {
        "id": "aFpaF_11FvKr"
      },
      "source": [
        "# 📌 Black-Litterman Calculation"
      ]
    },
    {
      "cell_type": "markdown",
      "metadata": {
        "id": "bosSV1UN4qmE"
      },
      "source": [
        "## Library"
      ]
    },
    {
      "cell_type": "code",
      "execution_count": null,
      "metadata": {
        "id": "dAA_lM-vFvKq",
        "colab": {
          "base_uri": "https://localhost:8080/"
        },
        "outputId": "0c6db768-221f-48ac-c0bc-27513584d70e"
      },
      "outputs": [
        {
          "output_type": "stream",
          "name": "stdout",
          "text": [
            "Requirement already satisfied: PyPortfolioOpt in /usr/local/lib/python3.11/dist-packages (1.5.6)\n",
            "Requirement already satisfied: cvxpy>=1.1.19 in /usr/local/lib/python3.11/dist-packages (from PyPortfolioOpt) (1.6.5)\n",
            "Requirement already satisfied: ecos<3.0.0,>=2.0.14 in /usr/local/lib/python3.11/dist-packages (from PyPortfolioOpt) (2.0.14)\n",
            "Requirement already satisfied: numpy>=1.26.0 in /usr/local/lib/python3.11/dist-packages (from PyPortfolioOpt) (2.0.2)\n",
            "Requirement already satisfied: pandas>=0.19 in /usr/local/lib/python3.11/dist-packages (from PyPortfolioOpt) (2.2.2)\n",
            "Requirement already satisfied: plotly<6.0.0,>=5.0.0 in /usr/local/lib/python3.11/dist-packages (from PyPortfolioOpt) (5.24.1)\n",
            "Requirement already satisfied: scipy>=1.3 in /usr/local/lib/python3.11/dist-packages (from PyPortfolioOpt) (1.15.2)\n",
            "Requirement already satisfied: osqp>=0.6.2 in /usr/local/lib/python3.11/dist-packages (from cvxpy>=1.1.19->PyPortfolioOpt) (1.0.3)\n",
            "Requirement already satisfied: clarabel>=0.5.0 in /usr/local/lib/python3.11/dist-packages (from cvxpy>=1.1.19->PyPortfolioOpt) (0.10.0)\n",
            "Requirement already satisfied: scs>=3.2.4.post1 in /usr/local/lib/python3.11/dist-packages (from cvxpy>=1.1.19->PyPortfolioOpt) (3.2.7.post2)\n",
            "Requirement already satisfied: python-dateutil>=2.8.2 in /usr/local/lib/python3.11/dist-packages (from pandas>=0.19->PyPortfolioOpt) (2.9.0.post0)\n",
            "Requirement already satisfied: pytz>=2020.1 in /usr/local/lib/python3.11/dist-packages (from pandas>=0.19->PyPortfolioOpt) (2025.2)\n",
            "Requirement already satisfied: tzdata>=2022.7 in /usr/local/lib/python3.11/dist-packages (from pandas>=0.19->PyPortfolioOpt) (2025.2)\n",
            "Requirement already satisfied: tenacity>=6.2.0 in /usr/local/lib/python3.11/dist-packages (from plotly<6.0.0,>=5.0.0->PyPortfolioOpt) (9.1.2)\n",
            "Requirement already satisfied: packaging in /usr/local/lib/python3.11/dist-packages (from plotly<6.0.0,>=5.0.0->PyPortfolioOpt) (24.2)\n",
            "Requirement already satisfied: jinja2 in /usr/local/lib/python3.11/dist-packages (from osqp>=0.6.2->cvxpy>=1.1.19->PyPortfolioOpt) (3.1.6)\n",
            "Requirement already satisfied: setuptools in /usr/local/lib/python3.11/dist-packages (from osqp>=0.6.2->cvxpy>=1.1.19->PyPortfolioOpt) (75.2.0)\n",
            "Requirement already satisfied: joblib in /usr/local/lib/python3.11/dist-packages (from osqp>=0.6.2->cvxpy>=1.1.19->PyPortfolioOpt) (1.4.2)\n",
            "Requirement already satisfied: six>=1.5 in /usr/local/lib/python3.11/dist-packages (from python-dateutil>=2.8.2->pandas>=0.19->PyPortfolioOpt) (1.17.0)\n",
            "Requirement already satisfied: MarkupSafe>=2.0 in /usr/local/lib/python3.11/dist-packages (from jinja2->osqp>=0.6.2->cvxpy>=1.1.19->PyPortfolioOpt) (3.0.2)\n"
          ]
        }
      ],
      "source": [
        "!pip install PyPortfolioOpt"
      ]
    },
    {
      "cell_type": "code",
      "execution_count": null,
      "metadata": {
        "id": "3Km7RSUWBqa7"
      },
      "outputs": [],
      "source": [
        "import matplotlib.pyplot as plt"
      ]
    },
    {
      "cell_type": "markdown",
      "metadata": {
        "id": "IOQJAUE0BSPx"
      },
      "source": [
        "## Instrument"
      ]
    },
    {
      "cell_type": "code",
      "execution_count": null,
      "metadata": {
        "id": "vJpDnPKxFLZc",
        "colab": {
          "base_uri": "https://localhost:8080/"
        },
        "outputId": "b023cec7-2861-4f80-c569-699bc9a9c4ee"
      },
      "outputs": [
        {
          "output_type": "execute_result",
          "data": {
            "text/plain": [
              "        cappedForcMo  cappedForcAc  cappedForcBo  cappedForcCr  cappedForcSk  \\\n",
              "Symbol                                                                         \n",
              "JEPI       -5.438826     -2.598665      9.964936     12.275251     17.106058   \n",
              "JEPQ       -5.420370     -2.816357      9.809962     12.619320     11.924761   \n",
              "IDVO        5.283139      4.444706     14.137254      7.525164      7.297758   \n",
              "DVYE        2.488101      5.127402     16.084299     14.655776     20.000000   \n",
              "SGOV       -1.043068     -0.548902     -4.375269     20.000000     20.000000   \n",
              "\n",
              "        adjCombForc  instRisk  expExRet     Omega  \n",
              "Symbol                                             \n",
              "JEPI       1.064498  0.197319  0.210046  0.038935  \n",
              "JEPQ       0.887989  0.273231  0.242626  0.074655  \n",
              "IDVO       1.315393  0.231006  0.303864  0.053364  \n",
              "DVYE       1.984090  0.232327  0.460958  0.053976  \n",
              "SGOV       1.157114  0.011163  0.012917  0.000125  "
            ],
            "text/html": [
              "\n",
              "  <div id=\"df-7af258d5-2818-4a85-a382-0b1381c0da57\" class=\"colab-df-container\">\n",
              "    <div>\n",
              "<style scoped>\n",
              "    .dataframe tbody tr th:only-of-type {\n",
              "        vertical-align: middle;\n",
              "    }\n",
              "\n",
              "    .dataframe tbody tr th {\n",
              "        vertical-align: top;\n",
              "    }\n",
              "\n",
              "    .dataframe thead th {\n",
              "        text-align: right;\n",
              "    }\n",
              "</style>\n",
              "<table border=\"1\" class=\"dataframe\">\n",
              "  <thead>\n",
              "    <tr style=\"text-align: right;\">\n",
              "      <th></th>\n",
              "      <th>cappedForcMo</th>\n",
              "      <th>cappedForcAc</th>\n",
              "      <th>cappedForcBo</th>\n",
              "      <th>cappedForcCr</th>\n",
              "      <th>cappedForcSk</th>\n",
              "      <th>adjCombForc</th>\n",
              "      <th>instRisk</th>\n",
              "      <th>expExRet</th>\n",
              "      <th>Omega</th>\n",
              "    </tr>\n",
              "    <tr>\n",
              "      <th>Symbol</th>\n",
              "      <th></th>\n",
              "      <th></th>\n",
              "      <th></th>\n",
              "      <th></th>\n",
              "      <th></th>\n",
              "      <th></th>\n",
              "      <th></th>\n",
              "      <th></th>\n",
              "      <th></th>\n",
              "    </tr>\n",
              "  </thead>\n",
              "  <tbody>\n",
              "    <tr>\n",
              "      <th>JEPI</th>\n",
              "      <td>-5.438826</td>\n",
              "      <td>-2.598665</td>\n",
              "      <td>9.964936</td>\n",
              "      <td>12.275251</td>\n",
              "      <td>17.106058</td>\n",
              "      <td>1.064498</td>\n",
              "      <td>0.197319</td>\n",
              "      <td>0.210046</td>\n",
              "      <td>0.038935</td>\n",
              "    </tr>\n",
              "    <tr>\n",
              "      <th>JEPQ</th>\n",
              "      <td>-5.420370</td>\n",
              "      <td>-2.816357</td>\n",
              "      <td>9.809962</td>\n",
              "      <td>12.619320</td>\n",
              "      <td>11.924761</td>\n",
              "      <td>0.887989</td>\n",
              "      <td>0.273231</td>\n",
              "      <td>0.242626</td>\n",
              "      <td>0.074655</td>\n",
              "    </tr>\n",
              "    <tr>\n",
              "      <th>IDVO</th>\n",
              "      <td>5.283139</td>\n",
              "      <td>4.444706</td>\n",
              "      <td>14.137254</td>\n",
              "      <td>7.525164</td>\n",
              "      <td>7.297758</td>\n",
              "      <td>1.315393</td>\n",
              "      <td>0.231006</td>\n",
              "      <td>0.303864</td>\n",
              "      <td>0.053364</td>\n",
              "    </tr>\n",
              "    <tr>\n",
              "      <th>DVYE</th>\n",
              "      <td>2.488101</td>\n",
              "      <td>5.127402</td>\n",
              "      <td>16.084299</td>\n",
              "      <td>14.655776</td>\n",
              "      <td>20.000000</td>\n",
              "      <td>1.984090</td>\n",
              "      <td>0.232327</td>\n",
              "      <td>0.460958</td>\n",
              "      <td>0.053976</td>\n",
              "    </tr>\n",
              "    <tr>\n",
              "      <th>SGOV</th>\n",
              "      <td>-1.043068</td>\n",
              "      <td>-0.548902</td>\n",
              "      <td>-4.375269</td>\n",
              "      <td>20.000000</td>\n",
              "      <td>20.000000</td>\n",
              "      <td>1.157114</td>\n",
              "      <td>0.011163</td>\n",
              "      <td>0.012917</td>\n",
              "      <td>0.000125</td>\n",
              "    </tr>\n",
              "  </tbody>\n",
              "</table>\n",
              "</div>\n",
              "    <div class=\"colab-df-buttons\">\n",
              "\n",
              "  <div class=\"colab-df-container\">\n",
              "    <button class=\"colab-df-convert\" onclick=\"convertToInteractive('df-7af258d5-2818-4a85-a382-0b1381c0da57')\"\n",
              "            title=\"Convert this dataframe to an interactive table.\"\n",
              "            style=\"display:none;\">\n",
              "\n",
              "  <svg xmlns=\"http://www.w3.org/2000/svg\" height=\"24px\" viewBox=\"0 -960 960 960\">\n",
              "    <path d=\"M120-120v-720h720v720H120Zm60-500h600v-160H180v160Zm220 220h160v-160H400v160Zm0 220h160v-160H400v160ZM180-400h160v-160H180v160Zm440 0h160v-160H620v160ZM180-180h160v-160H180v160Zm440 0h160v-160H620v160Z\"/>\n",
              "  </svg>\n",
              "    </button>\n",
              "\n",
              "  <style>\n",
              "    .colab-df-container {\n",
              "      display:flex;\n",
              "      gap: 12px;\n",
              "    }\n",
              "\n",
              "    .colab-df-convert {\n",
              "      background-color: #E8F0FE;\n",
              "      border: none;\n",
              "      border-radius: 50%;\n",
              "      cursor: pointer;\n",
              "      display: none;\n",
              "      fill: #1967D2;\n",
              "      height: 32px;\n",
              "      padding: 0 0 0 0;\n",
              "      width: 32px;\n",
              "    }\n",
              "\n",
              "    .colab-df-convert:hover {\n",
              "      background-color: #E2EBFA;\n",
              "      box-shadow: 0px 1px 2px rgba(60, 64, 67, 0.3), 0px 1px 3px 1px rgba(60, 64, 67, 0.15);\n",
              "      fill: #174EA6;\n",
              "    }\n",
              "\n",
              "    .colab-df-buttons div {\n",
              "      margin-bottom: 4px;\n",
              "    }\n",
              "\n",
              "    [theme=dark] .colab-df-convert {\n",
              "      background-color: #3B4455;\n",
              "      fill: #D2E3FC;\n",
              "    }\n",
              "\n",
              "    [theme=dark] .colab-df-convert:hover {\n",
              "      background-color: #434B5C;\n",
              "      box-shadow: 0px 1px 3px 1px rgba(0, 0, 0, 0.15);\n",
              "      filter: drop-shadow(0px 1px 2px rgba(0, 0, 0, 0.3));\n",
              "      fill: #FFFFFF;\n",
              "    }\n",
              "  </style>\n",
              "\n",
              "    <script>\n",
              "      const buttonEl =\n",
              "        document.querySelector('#df-7af258d5-2818-4a85-a382-0b1381c0da57 button.colab-df-convert');\n",
              "      buttonEl.style.display =\n",
              "        google.colab.kernel.accessAllowed ? 'block' : 'none';\n",
              "\n",
              "      async function convertToInteractive(key) {\n",
              "        const element = document.querySelector('#df-7af258d5-2818-4a85-a382-0b1381c0da57');\n",
              "        const dataTable =\n",
              "          await google.colab.kernel.invokeFunction('convertToInteractive',\n",
              "                                                    [key], {});\n",
              "        if (!dataTable) return;\n",
              "\n",
              "        const docLinkHtml = 'Like what you see? Visit the ' +\n",
              "          '<a target=\"_blank\" href=https://colab.research.google.com/notebooks/data_table.ipynb>data table notebook</a>'\n",
              "          + ' to learn more about interactive tables.';\n",
              "        element.innerHTML = '';\n",
              "        dataTable['output_type'] = 'display_data';\n",
              "        await google.colab.output.renderOutput(dataTable, element);\n",
              "        const docLink = document.createElement('div');\n",
              "        docLink.innerHTML = docLinkHtml;\n",
              "        element.appendChild(docLink);\n",
              "      }\n",
              "    </script>\n",
              "  </div>\n",
              "\n",
              "\n",
              "    <div id=\"df-d7ec381f-d3bf-46c4-8ff1-77cb6db685cb\">\n",
              "      <button class=\"colab-df-quickchart\" onclick=\"quickchart('df-d7ec381f-d3bf-46c4-8ff1-77cb6db685cb')\"\n",
              "                title=\"Suggest charts\"\n",
              "                style=\"display:none;\">\n",
              "\n",
              "<svg xmlns=\"http://www.w3.org/2000/svg\" height=\"24px\"viewBox=\"0 0 24 24\"\n",
              "     width=\"24px\">\n",
              "    <g>\n",
              "        <path d=\"M19 3H5c-1.1 0-2 .9-2 2v14c0 1.1.9 2 2 2h14c1.1 0 2-.9 2-2V5c0-1.1-.9-2-2-2zM9 17H7v-7h2v7zm4 0h-2V7h2v10zm4 0h-2v-4h2v4z\"/>\n",
              "    </g>\n",
              "</svg>\n",
              "      </button>\n",
              "\n",
              "<style>\n",
              "  .colab-df-quickchart {\n",
              "      --bg-color: #E8F0FE;\n",
              "      --fill-color: #1967D2;\n",
              "      --hover-bg-color: #E2EBFA;\n",
              "      --hover-fill-color: #174EA6;\n",
              "      --disabled-fill-color: #AAA;\n",
              "      --disabled-bg-color: #DDD;\n",
              "  }\n",
              "\n",
              "  [theme=dark] .colab-df-quickchart {\n",
              "      --bg-color: #3B4455;\n",
              "      --fill-color: #D2E3FC;\n",
              "      --hover-bg-color: #434B5C;\n",
              "      --hover-fill-color: #FFFFFF;\n",
              "      --disabled-bg-color: #3B4455;\n",
              "      --disabled-fill-color: #666;\n",
              "  }\n",
              "\n",
              "  .colab-df-quickchart {\n",
              "    background-color: var(--bg-color);\n",
              "    border: none;\n",
              "    border-radius: 50%;\n",
              "    cursor: pointer;\n",
              "    display: none;\n",
              "    fill: var(--fill-color);\n",
              "    height: 32px;\n",
              "    padding: 0;\n",
              "    width: 32px;\n",
              "  }\n",
              "\n",
              "  .colab-df-quickchart:hover {\n",
              "    background-color: var(--hover-bg-color);\n",
              "    box-shadow: 0 1px 2px rgba(60, 64, 67, 0.3), 0 1px 3px 1px rgba(60, 64, 67, 0.15);\n",
              "    fill: var(--button-hover-fill-color);\n",
              "  }\n",
              "\n",
              "  .colab-df-quickchart-complete:disabled,\n",
              "  .colab-df-quickchart-complete:disabled:hover {\n",
              "    background-color: var(--disabled-bg-color);\n",
              "    fill: var(--disabled-fill-color);\n",
              "    box-shadow: none;\n",
              "  }\n",
              "\n",
              "  .colab-df-spinner {\n",
              "    border: 2px solid var(--fill-color);\n",
              "    border-color: transparent;\n",
              "    border-bottom-color: var(--fill-color);\n",
              "    animation:\n",
              "      spin 1s steps(1) infinite;\n",
              "  }\n",
              "\n",
              "  @keyframes spin {\n",
              "    0% {\n",
              "      border-color: transparent;\n",
              "      border-bottom-color: var(--fill-color);\n",
              "      border-left-color: var(--fill-color);\n",
              "    }\n",
              "    20% {\n",
              "      border-color: transparent;\n",
              "      border-left-color: var(--fill-color);\n",
              "      border-top-color: var(--fill-color);\n",
              "    }\n",
              "    30% {\n",
              "      border-color: transparent;\n",
              "      border-left-color: var(--fill-color);\n",
              "      border-top-color: var(--fill-color);\n",
              "      border-right-color: var(--fill-color);\n",
              "    }\n",
              "    40% {\n",
              "      border-color: transparent;\n",
              "      border-right-color: var(--fill-color);\n",
              "      border-top-color: var(--fill-color);\n",
              "    }\n",
              "    60% {\n",
              "      border-color: transparent;\n",
              "      border-right-color: var(--fill-color);\n",
              "    }\n",
              "    80% {\n",
              "      border-color: transparent;\n",
              "      border-right-color: var(--fill-color);\n",
              "      border-bottom-color: var(--fill-color);\n",
              "    }\n",
              "    90% {\n",
              "      border-color: transparent;\n",
              "      border-bottom-color: var(--fill-color);\n",
              "    }\n",
              "  }\n",
              "</style>\n",
              "\n",
              "      <script>\n",
              "        async function quickchart(key) {\n",
              "          const quickchartButtonEl =\n",
              "            document.querySelector('#' + key + ' button');\n",
              "          quickchartButtonEl.disabled = true;  // To prevent multiple clicks.\n",
              "          quickchartButtonEl.classList.add('colab-df-spinner');\n",
              "          try {\n",
              "            const charts = await google.colab.kernel.invokeFunction(\n",
              "                'suggestCharts', [key], {});\n",
              "          } catch (error) {\n",
              "            console.error('Error during call to suggestCharts:', error);\n",
              "          }\n",
              "          quickchartButtonEl.classList.remove('colab-df-spinner');\n",
              "          quickchartButtonEl.classList.add('colab-df-quickchart-complete');\n",
              "        }\n",
              "        (() => {\n",
              "          let quickchartButtonEl =\n",
              "            document.querySelector('#df-d7ec381f-d3bf-46c4-8ff1-77cb6db685cb button');\n",
              "          quickchartButtonEl.style.display =\n",
              "            google.colab.kernel.accessAllowed ? 'block' : 'none';\n",
              "        })();\n",
              "      </script>\n",
              "    </div>\n",
              "\n",
              "  <div id=\"id_fc84c38c-d375-450b-886a-771758d9b802\">\n",
              "    <style>\n",
              "      .colab-df-generate {\n",
              "        background-color: #E8F0FE;\n",
              "        border: none;\n",
              "        border-radius: 50%;\n",
              "        cursor: pointer;\n",
              "        display: none;\n",
              "        fill: #1967D2;\n",
              "        height: 32px;\n",
              "        padding: 0 0 0 0;\n",
              "        width: 32px;\n",
              "      }\n",
              "\n",
              "      .colab-df-generate:hover {\n",
              "        background-color: #E2EBFA;\n",
              "        box-shadow: 0px 1px 2px rgba(60, 64, 67, 0.3), 0px 1px 3px 1px rgba(60, 64, 67, 0.15);\n",
              "        fill: #174EA6;\n",
              "      }\n",
              "\n",
              "      [theme=dark] .colab-df-generate {\n",
              "        background-color: #3B4455;\n",
              "        fill: #D2E3FC;\n",
              "      }\n",
              "\n",
              "      [theme=dark] .colab-df-generate:hover {\n",
              "        background-color: #434B5C;\n",
              "        box-shadow: 0px 1px 3px 1px rgba(0, 0, 0, 0.15);\n",
              "        filter: drop-shadow(0px 1px 2px rgba(0, 0, 0, 0.3));\n",
              "        fill: #FFFFFF;\n",
              "      }\n",
              "    </style>\n",
              "    <button class=\"colab-df-generate\" onclick=\"generateWithVariable('df_final')\"\n",
              "            title=\"Generate code using this dataframe.\"\n",
              "            style=\"display:none;\">\n",
              "\n",
              "  <svg xmlns=\"http://www.w3.org/2000/svg\" height=\"24px\"viewBox=\"0 0 24 24\"\n",
              "       width=\"24px\">\n",
              "    <path d=\"M7,19H8.4L18.45,9,17,7.55,7,17.6ZM5,21V16.75L18.45,3.32a2,2,0,0,1,2.83,0l1.4,1.43a1.91,1.91,0,0,1,.58,1.4,1.91,1.91,0,0,1-.58,1.4L9.25,21ZM18.45,9,17,7.55Zm-12,3A5.31,5.31,0,0,0,4.9,8.1,5.31,5.31,0,0,0,1,6.5,5.31,5.31,0,0,0,4.9,4.9,5.31,5.31,0,0,0,6.5,1,5.31,5.31,0,0,0,8.1,4.9,5.31,5.31,0,0,0,12,6.5,5.46,5.46,0,0,0,6.5,12Z\"/>\n",
              "  </svg>\n",
              "    </button>\n",
              "    <script>\n",
              "      (() => {\n",
              "      const buttonEl =\n",
              "        document.querySelector('#id_fc84c38c-d375-450b-886a-771758d9b802 button.colab-df-generate');\n",
              "      buttonEl.style.display =\n",
              "        google.colab.kernel.accessAllowed ? 'block' : 'none';\n",
              "\n",
              "      buttonEl.onclick = () => {\n",
              "        google.colab.notebook.generateWithVariable('df_final');\n",
              "      }\n",
              "      })();\n",
              "    </script>\n",
              "  </div>\n",
              "\n",
              "    </div>\n",
              "  </div>\n"
            ],
            "application/vnd.google.colaboratory.intrinsic+json": {
              "type": "dataframe",
              "variable_name": "df_final",
              "summary": "{\n  \"name\": \"df_final\",\n  \"rows\": 5,\n  \"fields\": [\n    {\n      \"column\": \"Symbol\",\n      \"properties\": {\n        \"dtype\": \"string\",\n        \"num_unique_values\": 5,\n        \"samples\": [\n          \"JEPQ\",\n          \"SGOV\",\n          \"IDVO\"\n        ],\n        \"semantic_type\": \"\",\n        \"description\": \"\"\n      }\n    },\n    {\n      \"column\": \"cappedForcMo\",\n      \"properties\": {\n        \"dtype\": \"number\",\n        \"std\": 4.762834235099719,\n        \"min\": -5.438825597941008,\n        \"max\": 5.28313867715824,\n        \"num_unique_values\": 5,\n        \"samples\": [\n          -5.420370325034143,\n          -1.043068173757303,\n          5.28313867715824\n        ],\n        \"semantic_type\": \"\",\n        \"description\": \"\"\n      }\n    },\n    {\n      \"column\": \"cappedForcAc\",\n      \"properties\": {\n        \"dtype\": \"number\",\n        \"std\": 3.8219131777280584,\n        \"min\": -2.8163565679611664,\n        \"max\": 5.127402256737305,\n        \"num_unique_values\": 5,\n        \"samples\": [\n          -2.8163565679611664,\n          -0.5489022423464268,\n          4.444705920226707\n        ],\n        \"semantic_type\": \"\",\n        \"description\": \"\"\n      }\n    },\n    {\n      \"column\": \"cappedForcBo\",\n      \"properties\": {\n        \"dtype\": \"number\",\n        \"std\": 8.015398498878776,\n        \"min\": -4.37526886685048,\n        \"max\": 16.084298761996802,\n        \"num_unique_values\": 5,\n        \"samples\": [\n          9.809961564205464,\n          -4.37526886685048,\n          14.137254158552077\n        ],\n        \"semantic_type\": \"\",\n        \"description\": \"\"\n      }\n    },\n    {\n      \"column\": \"cappedForcCr\",\n      \"properties\": {\n        \"dtype\": \"number\",\n        \"std\": 4.514533487977448,\n        \"min\": 7.5251641135922425,\n        \"max\": 20.0,\n        \"num_unique_values\": 5,\n        \"samples\": [\n          12.619320432032074,\n          20.0,\n          7.5251641135922425\n        ],\n        \"semantic_type\": \"\",\n        \"description\": \"\"\n      }\n    },\n    {\n      \"column\": \"cappedForcSk\",\n      \"properties\": {\n        \"dtype\": \"number\",\n        \"std\": 5.542203763042862,\n        \"min\": 7.297757694011506,\n        \"max\": 20.0,\n        \"num_unique_values\": 4,\n        \"samples\": [\n          11.924760748906062,\n          20.0,\n          17.106057996274924\n        ],\n        \"semantic_type\": \"\",\n        \"description\": \"\"\n      }\n    },\n    {\n      \"column\": \"adjCombForc\",\n      \"properties\": {\n        \"dtype\": \"number\",\n        \"std\": 0.421957779724683,\n        \"min\": 0.8879887389730419,\n        \"max\": 1.984089646842396,\n        \"num_unique_values\": 5,\n        \"samples\": [\n          0.8879887389730419,\n          1.1571138643795569,\n          1.3153926991603861\n        ],\n        \"semantic_type\": \"\",\n        \"description\": \"\"\n      }\n    },\n    {\n      \"column\": \"instRisk\",\n      \"properties\": {\n        \"dtype\": \"number\",\n        \"std\": 0.10299490064173081,\n        \"min\": 0.011163,\n        \"max\": 0.273231,\n        \"num_unique_values\": 5,\n        \"samples\": [\n          0.273231,\n          0.011163,\n          0.231006\n        ],\n        \"semantic_type\": \"\",\n        \"description\": \"\"\n      }\n    },\n    {\n      \"column\": \"expExRet\",\n      \"properties\": {\n        \"dtype\": \"number\",\n        \"std\": 0.16216255883059313,\n        \"min\": 0.012916862068068993,\n        \"max\": 0.46095759538195336,\n        \"num_unique_values\": 5,\n        \"samples\": [\n          0.2426260511383432,\n          0.012916862068068993,\n          0.30386360586224415\n        ],\n        \"semantic_type\": \"\",\n        \"description\": \"\"\n      }\n    },\n    {\n      \"column\": \"Omega\",\n      \"properties\": {\n        \"dtype\": \"number\",\n        \"std\": 0.027737255029442093,\n        \"min\": 0.000124612569,\n        \"max\": 0.074655179361,\n        \"num_unique_values\": 5,\n        \"samples\": [\n          0.074655179361,\n          0.000124612569,\n          0.053363772036\n        ],\n        \"semantic_type\": \"\",\n        \"description\": \"\"\n      }\n    }\n  ]\n}"
            }
          },
          "metadata": {},
          "execution_count": 111
        }
      ],
      "source": [
        "df_final = pd.DataFrame(\n",
        "    final_results,\n",
        "    columns=[\n",
        "        \"Symbol\", \"cappedForcMo\", \"cappedForcAc\", \"cappedForcBo\",\n",
        "        \"cappedForcCr\", \"cappedForcSk\",\n",
        "        \"adjCombForc\",\n",
        "        \"instRisk\",\n",
        "        \"expExRet\",\n",
        "        \"Omega\"\n",
        "    ]\n",
        ").set_index(\"Symbol\")\n",
        "df_final"
      ]
    },
    {
      "cell_type": "code",
      "execution_count": null,
      "metadata": {
        "id": "9DsKE_UrFjrU",
        "colab": {
          "base_uri": "https://localhost:8080/"
        },
        "outputId": "c5b8f96b-8fd3-412e-cc0e-627fe7518717"
      },
      "outputs": [
        {
          "output_type": "execute_result",
          "data": {
            "text/plain": [
              "{'JEPI': np.float64(0.10502),\n",
              " 'JEPQ': np.float64(0.12131),\n",
              " 'IDVO': np.float64(0.15193),\n",
              " 'DVYE': np.float64(0.23048),\n",
              " 'SGOV': np.float64(0.047048546974522286)}"
            ]
          },
          "metadata": {},
          "execution_count": 112
        }
      ],
      "source": [
        "weights_view = {sym: eqView[sym][\"weight\"] for sym in df_final.index}\n",
        "\n",
        "viewdict = {\n",
        "    sym: round(df_final.loc[sym, \"expExRet\"] * weights_view[sym], 5)\n",
        "    for sym in df_final.index\n",
        "}\n",
        "viewdict[\"SGOV\"] = df_dividends.loc[\"SGOV\", \"expectedDiv\"]\n",
        "viewdict"
      ]
    },
    {
      "cell_type": "code",
      "execution_count": null,
      "metadata": {
        "id": "JC89UfXmFknV",
        "colab": {
          "base_uri": "https://localhost:8080/"
        },
        "outputId": "74555eb1-5524-496b-bf62-e928b1f0e904"
      },
      "outputs": [
        {
          "output_type": "execute_result",
          "data": {
            "text/plain": [
              "array([[0.03893479, 0.        , 0.        , 0.        , 0.        ],\n",
              "       [0.        , 0.07465518, 0.        , 0.        , 0.        ],\n",
              "       [0.        , 0.        , 0.05336377, 0.        , 0.        ],\n",
              "       [0.        , 0.        , 0.        , 0.05397583, 0.        ],\n",
              "       [0.        , 0.        , 0.        , 0.        , 0.00012461]])"
            ]
          },
          "metadata": {},
          "execution_count": 113
        }
      ],
      "source": [
        "omega_diag = df_final.loc[viewdict.keys(), \"Omega\"]\n",
        "Omega = np.diag(omega_diag.values)\n",
        "Omega"
      ]
    },
    {
      "cell_type": "markdown",
      "metadata": {
        "id": "a3DxPZMNFvKq"
      },
      "source": [
        "## Constructing the prior"
      ]
    },
    {
      "cell_type": "code",
      "execution_count": null,
      "metadata": {
        "id": "V22ZgElQFvKq",
        "colab": {
          "base_uri": "https://localhost:8080/"
        },
        "outputId": "dd31d06b-515e-4db9-86d1-b5b693b722ca"
      },
      "outputs": [
        {
          "output_type": "display_data",
          "data": {
            "text/plain": [
              "<Figure size 640x480 with 2 Axes>"
            ],
            "image/png": "[encoded data removed]"
          },
          "metadata": {}
        }
      ],
      "source": [
        "from pypfopt import BlackLittermanModel, black_litterman, plotting, risk_models\n",
        "\n",
        "S      = risk_models.CovarianceShrinkage(prices).ledoit_wolf()\n",
        "delta  = black_litterman.market_implied_risk_aversion(market_prices)\n",
        "pi     = black_litterman.market_implied_prior_returns(mcaps, delta, S)\n",
        "plotting.plot_covariance(S, plot_correlation=True);"
      ]
    },
    {
      "cell_type": "code",
      "execution_count": null,
      "metadata": {
        "id": "qOmBsrUZFvKr",
        "colab": {
          "base_uri": "https://localhost:8080/"
        },
        "outputId": "3d4b5e1a-5f45-4c1c-8630-730710ab95c7"
      },
      "outputs": [
        {
          "output_type": "display_data",
          "data": {
            "text/plain": [
              "<Figure size 1000x500 with 1 Axes>"
            ],
            "image/png": "[encoded data removed]"
          },
          "metadata": {}
        }
      ],
      "source": [
        "market_prior = black_litterman.market_implied_prior_returns(mcaps, delta, S)\n",
        "market_prior.plot.barh(figsize=(10,5));"
      ]
    },
    {
      "cell_type": "markdown",
      "metadata": {
        "id": "TOzkwnCBFvKr"
      },
      "source": [
        "## Confidences"
      ]
    },
    {
      "cell_type": "code",
      "execution_count": null,
      "metadata": {
        "id": "X_IIBYsnFvKs"
      },
      "outputs": [],
      "source": [
        "bl = BlackLittermanModel(\n",
        "        S,\n",
        "        pi               = pi,\n",
        "        absolute_views   = viewdict,\n",
        "        omega            = Omega\n",
        ")"
      ]
    },
    {
      "cell_type": "code",
      "execution_count": null,
      "metadata": {
        "id": "2oYmhWz2FvKs",
        "colab": {
          "base_uri": "https://localhost:8080/"
        },
        "outputId": "36e12f48-4f84-45d2-a8af-decd5f1156dc"
      },
      "outputs": [
        {
          "output_type": "display_data",
          "data": {
            "text/plain": [
              "<Figure size 700x700 with 1 Axes>"
            ],
            "image/png": "[encoded data removed]"
          },
          "metadata": {}
        }
      ],
      "source": [
        "fig, ax = plt.subplots(figsize=(7,7))\n",
        "im = ax.imshow(bl.omega)\n",
        "\n",
        "ax.set_xticks(np.arange(len(bl.tickers)))\n",
        "ax.set_yticks(np.arange(len(bl.tickers)))\n",
        "\n",
        "ax.set_xticklabels(bl.tickers)\n",
        "ax.set_yticklabels(bl.tickers)\n",
        "plt.show()"
      ]
    },
    {
      "cell_type": "code",
      "execution_count": null,
      "metadata": {
        "id": "hg4Dob5AFvKs",
        "colab": {
          "base_uri": "https://localhost:8080/"
        },
        "outputId": "416b628b-db75-42c6-b915-da91e942ffb7"
      },
      "outputs": [
        {
          "output_type": "execute_result",
          "data": {
            "text/plain": [
              "array([0.03893479, 0.07465518, 0.05336377, 0.05397583, 0.00012461])"
            ]
          },
          "metadata": {},
          "execution_count": 118
        }
      ],
      "source": [
        "np.diag(bl.omega)"
      ]
    },
    {
      "cell_type": "code",
      "execution_count": null,
      "metadata": {
        "id": "zDyRuylKFvKv",
        "colab": {
          "base_uri": "https://localhost:8080/"
        },
        "outputId": "592ae907-18b6-4a22-bc35-a78528c126b0"
      },
      "outputs": [
        {
          "output_type": "execute_result",
          "data": {
            "text/plain": [
              "JEPI    0.010744\n",
              "JEPQ    0.012607\n",
              "IDVO    0.008641\n",
              "DVYE    0.016016\n",
              "SGOV    0.002345\n",
              "dtype: float64"
            ],
            "text/html": [
              "<div>\n",
              "<style scoped>\n",
              "    .dataframe tbody tr th:only-of-type {\n",
              "        vertical-align: middle;\n",
              "    }\n",
              "\n",
              "    .dataframe tbody tr th {\n",
              "        vertical-align: top;\n",
              "    }\n",
              "\n",
              "    .dataframe thead th {\n",
              "        text-align: right;\n",
              "    }\n",
              "</style>\n",
              "<table border=\"1\" class=\"dataframe\">\n",
              "  <thead>\n",
              "    <tr style=\"text-align: right;\">\n",
              "      <th></th>\n",
              "      <th>0</th>\n",
              "    </tr>\n",
              "  </thead>\n",
              "  <tbody>\n",
              "    <tr>\n",
              "      <th>JEPI</th>\n",
              "      <td>0.010744</td>\n",
              "    </tr>\n",
              "    <tr>\n",
              "      <th>JEPQ</th>\n",
              "      <td>0.012607</td>\n",
              "    </tr>\n",
              "    <tr>\n",
              "      <th>IDVO</th>\n",
              "      <td>0.008641</td>\n",
              "    </tr>\n",
              "    <tr>\n",
              "      <th>DVYE</th>\n",
              "      <td>0.016016</td>\n",
              "    </tr>\n",
              "    <tr>\n",
              "      <th>SGOV</th>\n",
              "      <td>0.002345</td>\n",
              "    </tr>\n",
              "  </tbody>\n",
              "</table>\n",
              "</div><br><label><b>dtype:</b> float64</label>"
            ]
          },
          "metadata": {},
          "execution_count": 119
        }
      ],
      "source": [
        "ret_bl = bl.bl_returns()\n",
        "ret_bl"
      ]
    },
    {
      "cell_type": "code",
      "execution_count": null,
      "metadata": {
        "id": "FBS5pjBYFvKw",
        "colab": {
          "base_uri": "https://localhost:8080/"
        },
        "outputId": "c48c1c26-53b0-4b48-e5a6-e1e42d63709f"
      },
      "outputs": [
        {
          "output_type": "execute_result",
          "data": {
            "text/plain": [
              "         Prior  Posterior     Views\n",
              "JEPI  0.008692   0.010744  0.105020\n",
              "JEPQ  0.010223   0.012607  0.121310\n",
              "IDVO  0.006342   0.008641  0.151930\n",
              "DVYE  0.007899   0.016016  0.230480\n",
              "SGOV  0.000170   0.002345  0.047049"
            ],
            "text/html": [
              "\n",
              "  <div id=\"df-0602ce51-653a-453f-9143-6bea9ff57bb9\" class=\"colab-df-container\">\n",
              "    <div>\n",
              "<style scoped>\n",
              "    .dataframe tbody tr th:only-of-type {\n",
              "        vertical-align: middle;\n",
              "    }\n",
              "\n",
              "    .dataframe tbody tr th {\n",
              "        vertical-align: top;\n",
              "    }\n",
              "\n",
              "    .dataframe thead th {\n",
              "        text-align: right;\n",
              "    }\n",
              "</style>\n",
              "<table border=\"1\" class=\"dataframe\">\n",
              "  <thead>\n",
              "    <tr style=\"text-align: right;\">\n",
              "      <th></th>\n",
              "      <th>Prior</th>\n",
              "      <th>Posterior</th>\n",
              "      <th>Views</th>\n",
              "    </tr>\n",
              "  </thead>\n",
              "  <tbody>\n",
              "    <tr>\n",
              "      <th>JEPI</th>\n",
              "      <td>0.008692</td>\n",
              "      <td>0.010744</td>\n",
              "      <td>0.105020</td>\n",
              "    </tr>\n",
              "    <tr>\n",
              "      <th>JEPQ</th>\n",
              "      <td>0.010223</td>\n",
              "      <td>0.012607</td>\n",
              "      <td>0.121310</td>\n",
              "    </tr>\n",
              "    <tr>\n",
              "      <th>IDVO</th>\n",
              "      <td>0.006342</td>\n",
              "      <td>0.008641</td>\n",
              "      <td>0.151930</td>\n",
              "    </tr>\n",
              "    <tr>\n",
              "      <th>DVYE</th>\n",
              "      <td>0.007899</td>\n",
              "      <td>0.016016</td>\n",
              "      <td>0.230480</td>\n",
              "    </tr>\n",
              "    <tr>\n",
              "      <th>SGOV</th>\n",
              "      <td>0.000170</td>\n",
              "      <td>0.002345</td>\n",
              "      <td>0.047049</td>\n",
              "    </tr>\n",
              "  </tbody>\n",
              "</table>\n",
              "</div>\n",
              "    <div class=\"colab-df-buttons\">\n",
              "\n",
              "  <div class=\"colab-df-container\">\n",
              "    <button class=\"colab-df-convert\" onclick=\"convertToInteractive('df-0602ce51-653a-453f-9143-6bea9ff57bb9')\"\n",
              "            title=\"Convert this dataframe to an interactive table.\"\n",
              "            style=\"display:none;\">\n",
              "\n",
              "  <svg xmlns=\"http://www.w3.org/2000/svg\" height=\"24px\" viewBox=\"0 -960 960 960\">\n",
              "    <path d=\"M120-120v-720h720v720H120Zm60-500h600v-160H180v160Zm220 220h160v-160H400v160Zm0 220h160v-160H400v160ZM180-400h160v-160H180v160Zm440 0h160v-160H620v160ZM180-180h160v-160H180v160Zm440 0h160v-160H620v160Z\"/>\n",
              "  </svg>\n",
              "    </button>\n",
              "\n",
              "  <style>\n",
              "    .colab-df-container {\n",
              "      display:flex;\n",
              "      gap: 12px;\n",
              "    }\n",
              "\n",
              "    .colab-df-convert {\n",
              "      background-color: #E8F0FE;\n",
              "      border: none;\n",
              "      border-radius: 50%;\n",
              "      cursor: pointer;\n",
              "      display: none;\n",
              "      fill: #1967D2;\n",
              "      height: 32px;\n",
              "      padding: 0 0 0 0;\n",
              "      width: 32px;\n",
              "    }\n",
              "\n",
              "    .colab-df-convert:hover {\n",
              "      background-color: #E2EBFA;\n",
              "      box-shadow: 0px 1px 2px rgba(60, 64, 67, 0.3), 0px 1px 3px 1px rgba(60, 64, 67, 0.15);\n",
              "      fill: #174EA6;\n",
              "    }\n",
              "\n",
              "    .colab-df-buttons div {\n",
              "      margin-bottom: 4px;\n",
              "    }\n",
              "\n",
              "    [theme=dark] .colab-df-convert {\n",
              "      background-color: #3B4455;\n",
              "      fill: #D2E3FC;\n",
              "    }\n",
              "\n",
              "    [theme=dark] .colab-df-convert:hover {\n",
              "      background-color: #434B5C;\n",
              "      box-shadow: 0px 1px 3px 1px rgba(0, 0, 0, 0.15);\n",
              "      filter: drop-shadow(0px 1px 2px rgba(0, 0, 0, 0.3));\n",
              "      fill: #FFFFFF;\n",
              "    }\n",
              "  </style>\n",
              "\n",
              "    <script>\n",
              "      const buttonEl =\n",
              "        document.querySelector('#df-0602ce51-653a-453f-9143-6bea9ff57bb9 button.colab-df-convert');\n",
              "      buttonEl.style.display =\n",
              "        google.colab.kernel.accessAllowed ? 'block' : 'none';\n",
              "\n",
              "      async function convertToInteractive(key) {\n",
              "        const element = document.querySelector('#df-0602ce51-653a-453f-9143-6bea9ff57bb9');\n",
              "        const dataTable =\n",
              "          await google.colab.kernel.invokeFunction('convertToInteractive',\n",
              "                                                    [key], {});\n",
              "        if (!dataTable) return;\n",
              "\n",
              "        const docLinkHtml = 'Like what you see? Visit the ' +\n",
              "          '<a target=\"_blank\" href=https://colab.research.google.com/notebooks/data_table.ipynb>data table notebook</a>'\n",
              "          + ' to learn more about interactive tables.';\n",
              "        element.innerHTML = '';\n",
              "        dataTable['output_type'] = 'display_data';\n",
              "        await google.colab.output.renderOutput(dataTable, element);\n",
              "        const docLink = document.createElement('div');\n",
              "        docLink.innerHTML = docLinkHtml;\n",
              "        element.appendChild(docLink);\n",
              "      }\n",
              "    </script>\n",
              "  </div>\n",
              "\n",
              "\n",
              "    <div id=\"df-64e03a79-12d9-4684-b757-edc8e77dd36b\">\n",
              "      <button class=\"colab-df-quickchart\" onclick=\"quickchart('df-64e03a79-12d9-4684-b757-edc8e77dd36b')\"\n",
              "                title=\"Suggest charts\"\n",
              "                style=\"display:none;\">\n",
              "\n",
              "<svg xmlns=\"http://www.w3.org/2000/svg\" height=\"24px\"viewBox=\"0 0 24 24\"\n",
              "     width=\"24px\">\n",
              "    <g>\n",
              "        <path d=\"M19 3H5c-1.1 0-2 .9-2 2v14c0 1.1.9 2 2 2h14c1.1 0 2-.9 2-2V5c0-1.1-.9-2-2-2zM9 17H7v-7h2v7zm4 0h-2V7h2v10zm4 0h-2v-4h2v4z\"/>\n",
              "    </g>\n",
              "</svg>\n",
              "      </button>\n",
              "\n",
              "<style>\n",
              "  .colab-df-quickchart {\n",
              "      --bg-color: #E8F0FE;\n",
              "      --fill-color: #1967D2;\n",
              "      --hover-bg-color: #E2EBFA;\n",
              "      --hover-fill-color: #174EA6;\n",
              "      --disabled-fill-color: #AAA;\n",
              "      --disabled-bg-color: #DDD;\n",
              "  }\n",
              "\n",
              "  [theme=dark] .colab-df-quickchart {\n",
              "      --bg-color: #3B4455;\n",
              "      --fill-color: #D2E3FC;\n",
              "      --hover-bg-color: #434B5C;\n",
              "      --hover-fill-color: #FFFFFF;\n",
              "      --disabled-bg-color: #3B4455;\n",
              "      --disabled-fill-color: #666;\n",
              "  }\n",
              "\n",
              "  .colab-df-quickchart {\n",
              "    background-color: var(--bg-color);\n",
              "    border: none;\n",
              "    border-radius: 50%;\n",
              "    cursor: pointer;\n",
              "    display: none;\n",
              "    fill: var(--fill-color);\n",
              "    height: 32px;\n",
              "    padding: 0;\n",
              "    width: 32px;\n",
              "  }\n",
              "\n",
              "  .colab-df-quickchart:hover {\n",
              "    background-color: var(--hover-bg-color);\n",
              "    box-shadow: 0 1px 2px rgba(60, 64, 67, 0.3), 0 1px 3px 1px rgba(60, 64, 67, 0.15);\n",
              "    fill: var(--button-hover-fill-color);\n",
              "  }\n",
              "\n",
              "  .colab-df-quickchart-complete:disabled,\n",
              "  .colab-df-quickchart-complete:disabled:hover {\n",
              "    background-color: var(--disabled-bg-color);\n",
              "    fill: var(--disabled-fill-color);\n",
              "    box-shadow: none;\n",
              "  }\n",
              "\n",
              "  .colab-df-spinner {\n",
              "    border: 2px solid var(--fill-color);\n",
              "    border-color: transparent;\n",
              "    border-bottom-color: var(--fill-color);\n",
              "    animation:\n",
              "      spin 1s steps(1) infinite;\n",
              "  }\n",
              "\n",
              "  @keyframes spin {\n",
              "    0% {\n",
              "      border-color: transparent;\n",
              "      border-bottom-color: var(--fill-color);\n",
              "      border-left-color: var(--fill-color);\n",
              "    }\n",
              "    20% {\n",
              "      border-color: transparent;\n",
              "      border-left-color: var(--fill-color);\n",
              "      border-top-color: var(--fill-color);\n",
              "    }\n",
              "    30% {\n",
              "      border-color: transparent;\n",
              "      border-left-color: var(--fill-color);\n",
              "      border-top-color: var(--fill-color);\n",
              "      border-right-color: var(--fill-color);\n",
              "    }\n",
              "    40% {\n",
              "      border-color: transparent;\n",
              "      border-right-color: var(--fill-color);\n",
              "      border-top-color: var(--fill-color);\n",
              "    }\n",
              "    60% {\n",
              "      border-color: transparent;\n",
              "      border-right-color: var(--fill-color);\n",
              "    }\n",
              "    80% {\n",
              "      border-color: transparent;\n",
              "      border-right-color: var(--fill-color);\n",
              "      border-bottom-color: var(--fill-color);\n",
              "    }\n",
              "    90% {\n",
              "      border-color: transparent;\n",
              "      border-bottom-color: var(--fill-color);\n",
              "    }\n",
              "  }\n",
              "</style>\n",
              "\n",
              "      <script>\n",
              "        async function quickchart(key) {\n",
              "          const quickchartButtonEl =\n",
              "            document.querySelector('#' + key + ' button');\n",
              "          quickchartButtonEl.disabled = true;  // To prevent multiple clicks.\n",
              "          quickchartButtonEl.classList.add('colab-df-spinner');\n",
              "          try {\n",
              "            const charts = await google.colab.kernel.invokeFunction(\n",
              "                'suggestCharts', [key], {});\n",
              "          } catch (error) {\n",
              "            console.error('Error during call to suggestCharts:', error);\n",
              "          }\n",
              "          quickchartButtonEl.classList.remove('colab-df-spinner');\n",
              "          quickchartButtonEl.classList.add('colab-df-quickchart-complete');\n",
              "        }\n",
              "        (() => {\n",
              "          let quickchartButtonEl =\n",
              "            document.querySelector('#df-64e03a79-12d9-4684-b757-edc8e77dd36b button');\n",
              "          quickchartButtonEl.style.display =\n",
              "            google.colab.kernel.accessAllowed ? 'block' : 'none';\n",
              "        })();\n",
              "      </script>\n",
              "    </div>\n",
              "\n",
              "  <div id=\"id_3ea0a743-6533-49ef-b0bb-1c272aca9c5f\">\n",
              "    <style>\n",
              "      .colab-df-generate {\n",
              "        background-color: #E8F0FE;\n",
              "        border: none;\n",
              "        border-radius: 50%;\n",
              "        cursor: pointer;\n",
              "        display: none;\n",
              "        fill: #1967D2;\n",
              "        height: 32px;\n",
              "        padding: 0 0 0 0;\n",
              "        width: 32px;\n",
              "      }\n",
              "\n",
              "      .colab-df-generate:hover {\n",
              "        background-color: #E2EBFA;\n",
              "        box-shadow: 0px 1px 2px rgba(60, 64, 67, 0.3), 0px 1px 3px 1px rgba(60, 64, 67, 0.15);\n",
              "        fill: #174EA6;\n",
              "      }\n",
              "\n",
              "      [theme=dark] .colab-df-generate {\n",
              "        background-color: #3B4455;\n",
              "        fill: #D2E3FC;\n",
              "      }\n",
              "\n",
              "      [theme=dark] .colab-df-generate:hover {\n",
              "        background-color: #434B5C;\n",
              "        box-shadow: 0px 1px 3px 1px rgba(0, 0, 0, 0.15);\n",
              "        filter: drop-shadow(0px 1px 2px rgba(0, 0, 0, 0.3));\n",
              "        fill: #FFFFFF;\n",
              "      }\n",
              "    </style>\n",
              "    <button class=\"colab-df-generate\" onclick=\"generateWithVariable('rets_df')\"\n",
              "            title=\"Generate code using this dataframe.\"\n",
              "            style=\"display:none;\">\n",
              "\n",
              "  <svg xmlns=\"http://www.w3.org/2000/svg\" height=\"24px\"viewBox=\"0 0 24 24\"\n",
              "       width=\"24px\">\n",
              "    <path d=\"M7,19H8.4L18.45,9,17,7.55,7,17.6ZM5,21V16.75L18.45,3.32a2,2,0,0,1,2.83,0l1.4,1.43a1.91,1.91,0,0,1,.58,1.4,1.91,1.91,0,0,1-.58,1.4L9.25,21ZM18.45,9,17,7.55Zm-12,3A5.31,5.31,0,0,0,4.9,8.1,5.31,5.31,0,0,0,1,6.5,5.31,5.31,0,0,0,4.9,4.9,5.31,5.31,0,0,0,6.5,1,5.31,5.31,0,0,0,8.1,4.9,5.31,5.31,0,0,0,12,6.5,5.46,5.46,0,0,0,6.5,12Z\"/>\n",
              "  </svg>\n",
              "    </button>\n",
              "    <script>\n",
              "      (() => {\n",
              "      const buttonEl =\n",
              "        document.querySelector('#id_3ea0a743-6533-49ef-b0bb-1c272aca9c5f button.colab-df-generate');\n",
              "      buttonEl.style.display =\n",
              "        google.colab.kernel.accessAllowed ? 'block' : 'none';\n",
              "\n",
              "      buttonEl.onclick = () => {\n",
              "        google.colab.notebook.generateWithVariable('rets_df');\n",
              "      }\n",
              "      })();\n",
              "    </script>\n",
              "  </div>\n",
              "\n",
              "    </div>\n",
              "  </div>\n"
            ],
            "application/vnd.google.colaboratory.intrinsic+json": {
              "type": "dataframe",
              "variable_name": "rets_df",
              "summary": "{\n  \"name\": \"rets_df\",\n  \"rows\": 5,\n  \"fields\": [\n    {\n      \"column\": \"Prior\",\n      \"properties\": {\n        \"dtype\": \"number\",\n        \"std\": 0.0038918357377530815,\n        \"min\": 0.00016952195801457937,\n        \"max\": 0.010223085830013263,\n        \"num_unique_values\": 5,\n        \"samples\": [\n          0.010223085830013263,\n          0.00016952195801457937,\n          0.00634176333886014\n        ],\n        \"semantic_type\": \"\",\n        \"description\": \"\"\n      }\n    },\n    {\n      \"column\": \"Posterior\",\n      \"properties\": {\n        \"dtype\": \"number\",\n        \"std\": 0.005098379275643734,\n        \"min\": 0.0023447147811757286,\n        \"max\": 0.01601633241499284,\n        \"num_unique_values\": 5,\n        \"samples\": [\n          0.01260717283723702,\n          0.0023447147811757286,\n          0.008640515150629902\n        ],\n        \"semantic_type\": \"\",\n        \"description\": \"\"\n      }\n    },\n    {\n      \"column\": \"Views\",\n      \"properties\": {\n        \"dtype\": \"number\",\n        \"std\": 0.0673626638127954,\n        \"min\": 0.047048546974522286,\n        \"max\": 0.23048,\n        \"num_unique_values\": 5,\n        \"samples\": [\n          0.12131,\n          0.047048546974522286,\n          0.15193\n        ],\n        \"semantic_type\": \"\",\n        \"description\": \"\"\n      }\n    }\n  ]\n}"
            }
          },
          "metadata": {},
          "execution_count": 120
        }
      ],
      "source": [
        "rets_df = pd.DataFrame([market_prior, ret_bl, pd.Series(viewdict)],\n",
        "             index=[\"Prior\", \"Posterior\", \"Views\"]).T\n",
        "rets_df"
      ]
    },
    {
      "cell_type": "code",
      "execution_count": null,
      "metadata": {
        "id": "t2KBJmRIFvKw",
        "colab": {
          "base_uri": "https://localhost:8080/"
        },
        "outputId": "0dbdc391-7740-4a39-acd6-bf4cbb19c96d"
      },
      "outputs": [
        {
          "output_type": "display_data",
          "data": {
            "text/plain": [
              "<Figure size 1200x800 with 1 Axes>"
            ],
            "image/png": "[encoded data removed]"
          },
          "metadata": {}
        }
      ],
      "source": [
        "rets_df.plot.bar(figsize=(12,8));"
      ]
    },
    {
      "cell_type": "code",
      "execution_count": null,
      "metadata": {
        "id": "16u5EPM2FvKw",
        "colab": {
          "base_uri": "https://localhost:8080/"
        },
        "outputId": "50c16e13-4f73-4d12-b06a-417ea3284c15"
      },
      "outputs": [
        {
          "output_type": "display_data",
          "data": {
            "text/plain": [
              "<Figure size 640x480 with 2 Axes>"
            ],
            "image/png": "[encoded data removed]"
          },
          "metadata": {}
        }
      ],
      "source": [
        "S_bl   = bl.bl_cov()\n",
        "plotting.plot_covariance(S_bl);"
      ]
    },
    {
      "cell_type": "code",
      "execution_count": null,
      "metadata": {
        "id": "Mhj3CJ1wFvKx"
      },
      "outputs": [],
      "source": [
        "from pypfopt import EfficientFrontier, objective_functions"
      ]
    },
    {
      "cell_type": "markdown",
      "metadata": {
        "id": "A5cC7SnbDW19"
      },
      "source": [
        "## Final Allocation"
      ]
    },
    {
      "cell_type": "code",
      "execution_count": null,
      "metadata": {
        "id": "5z69cTbkFvKx",
        "colab": {
          "base_uri": "https://localhost:8080/"
        },
        "outputId": "6298978b-f75d-4589-caa7-118fb7e50096"
      },
      "outputs": [
        {
          "output_type": "stream",
          "name": "stderr",
          "text": [
            "/usr/local/lib/python3.11/dist-packages/pypfopt/efficient_frontier/efficient_frontier.py:259: UserWarning: max_sharpe transforms the optimization problem so additional objectives may not work as expected.\n",
            "  warnings.warn(\n"
          ]
        },
        {
          "output_type": "execute_result",
          "data": {
            "text/plain": [
              "OrderedDict([('JEPI', 0.21514),\n",
              "             ('JEPQ', 0.25222),\n",
              "             ('IDVO', 0.172),\n",
              "             ('DVYE', 0.31283),\n",
              "             ('SGOV', 0.04781)])"
            ]
          },
          "metadata": {},
          "execution_count": 124
        }
      ],
      "source": [
        "ef = EfficientFrontier(ret_bl, S_bl)\n",
        "ef.add_objective(objective_functions.L2_reg)\n",
        "ef.max_sharpe()\n",
        "weights = ef.clean_weights()\n",
        "weights"
      ]
    },
    {
      "cell_type": "code",
      "execution_count": null,
      "metadata": {
        "id": "GmcUg4QowX21",
        "colab": {
          "base_uri": "https://localhost:8080/"
        },
        "outputId": "d6bf3cc5-d8f1-4920-b886-641fbe1c1d1f"
      },
      "outputs": [
        {
          "output_type": "stream",
          "name": "stdout",
          "text": [
            "Expected annual return: 1.2%\n",
            "Annual volatility: 8.4%\n",
            "Sharpe Ratio: 0.14\n"
          ]
        },
        {
          "output_type": "stream",
          "name": "stderr",
          "text": [
            "/usr/local/lib/python3.11/dist-packages/pypfopt/efficient_frontier/efficient_frontier.py:441: UserWarning: The risk_free_rate provided to portfolio_performance is different to the one used by max_sharpe. Using the previous value.\n",
            "  warnings.warn(\n"
          ]
        },
        {
          "output_type": "execute_result",
          "data": {
            "text/plain": [
              "(np.float64(0.012099937185580879),\n",
              " np.float64(0.08435844142986142),\n",
              " np.float64(0.14343481198193062))"
            ]
          },
          "metadata": {},
          "execution_count": 125
        },
        {
          "output_type": "display_data",
          "data": {
            "text/plain": [
              "<Figure size 640x480 with 1 Axes>"
            ],
            "image/png": "[encoded data removed]"
          },
          "metadata": {}
        }
      ],
      "source": [
        "from pypfopt.plotting import plot_weights\n",
        "\n",
        "ef = EfficientFrontier(ret_bl, S_bl)\n",
        "ef.add_objective(objective_functions.L2_reg)\n",
        "ef.max_sharpe()\n",
        "weights = ef.clean_weights()\n",
        "\n",
        "plot_weights(weights)\n",
        "ef.portfolio_performance(verbose = True, risk_free_rate = 0.009)"
      ]
    },
    {
      "cell_type": "markdown",
      "metadata": {
        "id": "V7oL1ZXnYlNX"
      },
      "source": [
        "## Update Google Sheet"
      ]
    },
    {
      "cell_type": "code",
      "execution_count": null,
      "metadata": {
        "id": "WwdgLbx1XryF"
      },
      "outputs": [],
      "source": [
        "from google.colab import auth, files\n",
        "\n",
        "auth.authenticate_user()\n",
        "import gspread\n",
        "from google.auth import default\n",
        "\n",
        "creds, _ = default()\n",
        "gc = gspread.authorize(creds)\n",
        "\n",
        "import datetime\n",
        "\n",
        "import pytz\n",
        "\n",
        "bangkok_tz = pytz.timezone(\"Asia/Bangkok\")\n",
        "now = datetime.datetime.now(bangkok_tz).strftime(\"%y-%m-%d %H:%M\")"
      ]
    },
    {
      "cell_type": "code",
      "execution_count": null,
      "metadata": {
        "id": "ZHfm2Wjwvo6M"
      },
      "outputs": [],
      "source": [
        "scaled_weights = {\n",
        "    sym: weights.get(sym,0.0) * eqView[sym][\"weight\"]\n",
        "    for sym in weights}"
      ]
    },
    {
      "cell_type": "code",
      "execution_count": null,
      "metadata": {
        "id": "CSW1Zm7GRjsS",
        "colab": {
          "base_uri": "https://localhost:8080/"
        },
        "outputId": "a927fa7c-b059-4dac-a813-c05fc593e4eb"
      },
      "outputs": [
        {
          "output_type": "execute_result",
          "data": {
            "text/plain": [
              "{'spreadsheetId': '1IhQ5wwb6XTO1lUYqFzFTqsKBSvBfmGM3bH5Cje05LGg',\n",
              " 'updatedRange': 'Allocation!H5',\n",
              " 'updatedRows': 1,\n",
              " 'updatedColumns': 1,\n",
              " 'updatedCells': 1}"
            ]
          },
          "metadata": {},
          "execution_count": 128
        }
      ],
      "source": [
        "sheet = gc.open_by_key(\"1IhQ5wwb6XTO1lUYqFzFTqsKBSvBfmGM3bH5Cje05LGg\").worksheet(\"Allocation\")\n",
        "\n",
        "for dividend, v in eqView.items():\n",
        "    if dividend != \"SGOV\":\n",
        "        sheet.update_acell(f\"{v['gg_sheet_col']}9\", str(scaled_weights[dividend]))\n",
        "\n",
        "    sheet.update_acell(f\"{v['gg_sheet_col']}10\", str(df_dividends.loc[dividend].expectedDiv))\n",
        "\n",
        "sheet.update_acell(\"H5\", now)"
      ]
    },
    {
      "cell_type": "code",
      "source": [
        "sheet = gc.open_by_key(\"1IhQ5wwb6XTO1lUYqFzFTqsKBSvBfmGM3bH5Cje05LGg\").worksheet(\"Staunch\")\n",
        "\n",
        "for dividend, v in eqView.items():\n",
        "    sheet.update_acell(f\"{v['gg_sheet_col']}12\", str(df_final.loc[dividend].adjCombForc))\n",
        "    sheet.update_acell(f\"{v['gg_sheet_col']}13\", str(df_final.loc[dividend].instRisk))\n",
        "    sheet.update_acell(f\"{v['gg_sheet_col']}21\", str(df_dividends.loc[dividend].expectedDiv))\n",
        "\n",
        "sheet.update_acell(\"A7\", now)"
      ],
      "metadata": {
        "id": "9mp9OpHVt47A",
        "colab": {
          "base_uri": "https://localhost:8080/"
        },
        "outputId": "c601dfae-e109-47f7-f6ba-89efab133043"
      },
      "execution_count": null,
      "outputs": [
        {
          "output_type": "execute_result",
          "data": {
            "text/plain": [
              "{'spreadsheetId': '1IhQ5wwb6XTO1lUYqFzFTqsKBSvBfmGM3bH5Cje05LGg',\n",
              " 'updatedRange': 'Staunch!A7',\n",
              " 'updatedRows': 1,\n",
              " 'updatedColumns': 1,\n",
              " 'updatedCells': 1}"
            ]
          },
          "metadata": {},
          "execution_count": 129
        }
      ]
    },
    {
      "cell_type": "code",
      "source": [
        "def covariance_to_correlation(cov_matrix):\n",
        "    stddev = np.sqrt(np.diag(cov_matrix))\n",
        "    corr_matrix = cov_matrix / np.outer(stddev, stddev)\n",
        "    return pd.DataFrame(corr_matrix, index=cov_matrix.index, columns=cov_matrix.columns)\n",
        "\n",
        "correlation_matrix = covariance_to_correlation(S)\n",
        "sheet.update_acell(\"C29\", correlation_matrix.iloc[0, 1])\n",
        "sheet.update_acell(\"D29\", correlation_matrix.iloc[0, 2])\n",
        "sheet.update_acell(\"E29\", correlation_matrix.iloc[0, 3])\n",
        "sheet.update_acell(\"D30\", correlation_matrix.iloc[1, 2])\n",
        "sheet.update_acell(\"E30\", correlation_matrix.iloc[1, 3])\n",
        "sheet.update_acell(\"E31\", correlation_matrix.iloc[2, 3])"
      ],
      "metadata": {
        "colab": {
          "base_uri": "https://localhost:8080/"
        },
        "id": "C3l2_JzsLccG",
        "outputId": "0fef5289-7823-446f-be69-20c4bf296f35"
      },
      "execution_count": null,
      "outputs": [
        {
          "output_type": "execute_result",
          "data": {
            "text/plain": [
              "{'spreadsheetId': '1IhQ5wwb6XTO1lUYqFzFTqsKBSvBfmGM3bH5Cje05LGg',\n",
              " 'updatedRange': 'Staunch!E31',\n",
              " 'updatedRows': 1,\n",
              " 'updatedColumns': 1,\n",
              " 'updatedCells': 1}"
            ]
          },
          "metadata": {},
          "execution_count": 130
        }
      ]
    }
  ],
  "metadata": {
    "colab": {
      "collapsed_sections": [
        "JU7N7APzYIfk",
        "5DPjteuaCsUv",
        "h1_8A6NYDCcN",
        "7nPBQdUgDJvz",
        "REXMX8D7JLI3",
        "kV1Bnke5NYpd",
        "aFpaF_11FvKr",
        "bosSV1UN4qmE",
        "IOQJAUE0BSPx",
        "a3DxPZMNFvKq",
        "TOzkwnCBFvKr",
        "A5cC7SnbDW19",
        "V7oL1ZXnYlNX"
      ],
      "provenance": []
    },
    "kernelspec": {
      "display_name": "Python 3",
      "name": "python3"
    },
    "language_info": {
      "codemirror_mode": {
        "name": "ipython",
        "version": 3
      },
      "file_extension": ".py",
      "mimetype": "text/x-python",
      "name": "python",
      "nbconvert_exporter": "python",
      "pygments_lexer": "ipython3",
      "version": "3.7.10"
    }
  },
  "nbformat": 4,
  "nbformat_minor": 0
}
